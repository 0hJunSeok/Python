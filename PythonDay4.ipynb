{
  "nbformat": 4,
  "nbformat_minor": 0,
  "metadata": {
    "colab": {
      "name": "PythonDay4",
      "provenance": [],
      "authorship_tag": "ABX9TyO+1fPQAMicQdt+61D7ONqe",
      "include_colab_link": true
    },
    "kernelspec": {
      "name": "python3",
      "display_name": "Python 3"
    },
    "language_info": {
      "name": "python"
    }
  },
  "cells": [
    {
      "cell_type": "markdown",
      "metadata": {
        "id": "view-in-github",
        "colab_type": "text"
      },
      "source": [
        "<a href=\"https://colab.research.google.com/github/0hJunSeok/Python/blob/main/PythonDay4.ipynb\" target=\"_parent\"><img src=\"https://colab.research.google.com/assets/colab-badge.svg\" alt=\"Open In Colab\"/></a>"
      ]
    },
    {
      "cell_type": "code",
      "execution_count": null,
      "metadata": {
        "id": "QsTOQlaxaHNv"
      },
      "outputs": [],
      "source": [
        "# 조건문\n",
        "\n",
        "# IF - 특정 조건을 만족하는지 여부에따라 실행하는 코드가 달라져야 할때 사용된다.\n",
        "\n",
        "a = 5\n",
        "\n",
        "if a > 0:\n",
        "  print('양수')\n",
        "\n",
        "if True:\n",
        "  print('양수') # tab 누르면 들여쓰기 가능"
      ]
    },
    {
      "cell_type": "code",
      "source": [
        "# if - else\n",
        "\n",
        "if a >= 0:\n",
        "  print('양수')\n",
        "else:\n",
        "  print('음수')"
      ],
      "metadata": {
        "id": "Rsy3FtZOe3BO"
      },
      "execution_count": null,
      "outputs": []
    },
    {
      "cell_type": "code",
      "source": [
        "age = int(input('몇 살입니까? >>>'))\n",
        "if age >= 20:\n",
        "  print('성인')\n",
        "else:\n",
        "  print('미성년자')"
      ],
      "metadata": {
        "id": "5vnPMkoNfVC3"
      },
      "execution_count": null,
      "outputs": []
    },
    {
      "cell_type": "code",
      "source": [
        "# if - elif\n",
        "\n",
        "important = 40\n",
        "if important >= 10:\n",
        "  print('상')\n",
        "else:\n",
        "  if important >= 50:\n",
        "    print('중')\n",
        "  else:\n",
        "    print('하')"
      ],
      "metadata": {
        "id": "42Xn3IvJgAVQ"
      },
      "execution_count": null,
      "outputs": []
    },
    {
      "cell_type": "code",
      "source": [
        "important = 40 \n",
        "\n",
        "if important >= 100:\n",
        "  print('상')\n",
        "elif important >= 50:\n",
        "  print('중')\n",
        "else:\n",
        "  print('하')"
      ],
      "metadata": {
        "id": "jCDo4SWFg_o0"
      },
      "execution_count": null,
      "outputs": []
    },
    {
      "cell_type": "code",
      "source": [
        "score = 40\n",
        "\n",
        "if score >= 90:\n",
        "  print('A')\n",
        "elif score >= 80:\n",
        "  print('B')\n",
        "elif score >= 70:\n",
        "  print('C')\n",
        "elif score >= 60:\n",
        "  print('D')\n",
        "else:\n",
        "  print('F')"
      ],
      "metadata": {
        "id": "PsQq_jsIhjWF"
      },
      "execution_count": null,
      "outputs": []
    },
    {
      "cell_type": "code",
      "source": [
        "score = int(input('점수를 입력하세요 >>>'))\n",
        "\n",
        "if score >= 90:\n",
        " print(f'점수는 {score}점이고, 학점은 A학점 입니다.')\n",
        "elif score >= 80:\n",
        " print(f'점수는 {score}점이고, 학점은 B학점 입니다.')\n",
        "elif score >= 70:\n",
        " print(f'점수는 {score}점이고, 학점은 C학점 입니다.')\n",
        "elif score >= 60:\n",
        " print(f'점수는 {score}점이고, 학점은 D학점 입니다.')\n",
        "else:\n",
        " print(f'점수는 {score}점이고, 학점은 F학점 입니다.') # 좋은 방법이 아니다"
      ],
      "metadata": {
        "id": "zb-dYtuhiLqh"
      },
      "execution_count": null,
      "outputs": []
    },
    {
      "cell_type": "code",
      "source": [
        "score = int(input('점수를 입력하세요 >>>'))\n",
        "\n",
        "if score >= 90:\n",
        "  h = 'A'\n",
        "elif score >= 80:\n",
        "  h = 'b'\n",
        "elif score >= 70:\n",
        "  h = 'c'\n",
        "elif score >= 60:\n",
        "  h = 'D'\n",
        "else:\n",
        "  h = 'F'\n",
        "print(f'점수는 {score}점이고, 학점은 {h}학점 입니다.') # 좋은방법"
      ],
      "metadata": {
        "id": "2jwuifM-lsyT"
      },
      "execution_count": null,
      "outputs": []
    },
    {
      "cell_type": "code",
      "source": [
        "num = int(input('정수를 입력하세요'))\n",
        "if num % 3 == 0:\n",
        "  print(f'{num}는 3의 배수입니다')\n",
        "else:\n",
        "  print(f'{num}는 3의 배수가 아닙니다')"
      ],
      "metadata": {
        "id": "FAFR1LGZmb5S"
      },
      "execution_count": null,
      "outputs": []
    },
    {
      "cell_type": "code",
      "source": [
        "num1 = int(input('정수 1 입력 >>>'))\n",
        "num2 = int(input('정수 2 입력 >>>'))\n",
        "num3 = int(input('정수 3 입력 >>>'))\n",
        "\n",
        "if num1 > num2 and num2 > num3:\n",
        "  big = num1\n",
        "elif num3 > num2 and num2 > num1:\n",
        "  big = num3\n",
        "else:\n",
        "  big = num2\n",
        "\n",
        "print(f'가장 큰 수는{big}입니다.')"
      ],
      "metadata": {
        "id": "TSZM6ouBpNMy"
      },
      "execution_count": null,
      "outputs": []
    },
    {
      "cell_type": "code",
      "source": [
        "car = input('챠랑번호를 입력하세요 >>>')\n",
        "\n",
        "num = int(car[-1])\n",
        "\n",
        "if num % 2 == 0:\n",
        "  result = '운행가능'\n",
        "else:\n",
        "  result = '운행불가능'\n",
        "\n",
        "print(f'차량번호{car}는 오늘 {result}입니다.')"
      ],
      "metadata": {
        "id": "0c4PTs9BsBLI"
      },
      "execution_count": null,
      "outputs": []
    },
    {
      "cell_type": "code",
      "source": [
        "# 반복문\n",
        "# while - 반복횟수를 정확히 모를 때        해질때까지 운동장을 돌자\n",
        "# for   - 반복횟수를 정확히 알 때 (많이씀) 운동장을 10바퀴 돌자\n",
        "\n",
        "\n",
        "# while True:\n",
        "#   print('hello python')\n",
        "\n",
        "n = 1\n",
        "while n <= 10:\n",
        "  print(f'{n} : hello python')\n",
        "  n += 1"
      ],
      "metadata": {
        "id": "mB3igoKUx3p_"
      },
      "execution_count": null,
      "outputs": []
    },
    {
      "cell_type": "code",
      "source": [
        "n = 10\n",
        "while n >= 1:\n",
        "  print(n)\n",
        "  n -= 1"
      ],
      "metadata": {
        "id": "ELomvPBS2LJo"
      },
      "execution_count": null,
      "outputs": []
    },
    {
      "cell_type": "code",
      "source": [
        "my_list = []\n",
        "\n",
        "n = int(input('정수를 입력하세요(종료는 0입니다.) >>>'))\n",
        "\n",
        "while n != 0:\n",
        "  my_list.append(n)\n",
        "  n = int(input('정수를 입력하세요(종료는 0입니다.) >>>'))\n",
        "\n",
        "print(my_list)"
      ],
      "metadata": {
        "id": "WN3xWNBT2f0t"
      },
      "execution_count": null,
      "outputs": []
    },
    {
      "cell_type": "code",
      "source": [
        "day = 1\n",
        "while day <= 5:\n",
        "  hour = 1\n",
        "  while hour <= 5:\n",
        "    print(day, '일차', hour, '교시')\n",
        "    hour += 1\n",
        "  day += 1"
      ],
      "metadata": {
        "id": "v4AVwg5w3tiY"
      },
      "execution_count": null,
      "outputs": []
    },
    {
      "cell_type": "code",
      "source": [
        "dan = 2\n",
        "while dan <= 9:\n",
        "  no = 1\n",
        "  while no <= 9:\n",
        "    print(f'{dan} * {no} = {dan * no}')\n",
        "    no += 1\n",
        "  dan += 1"
      ],
      "metadata": {
        "id": "xwVvuIBm4n0y"
      },
      "execution_count": null,
      "outputs": []
    },
    {
      "cell_type": "code",
      "source": [
        "no = int(input('정수를 입력하세요 >>>'))\n",
        "cnt = 1\n",
        "\n",
        "if  no <= 0:\n",
        "  print('잘못된 입력입니다.')\n",
        "else:\n",
        " while cnt <= no:\n",
        "  print(f'{cnt}번째 Hello')\n",
        "  cnt += 1\n"
      ],
      "metadata": {
        "id": "8G0YUmnb53b3"
      },
      "execution_count": null,
      "outputs": []
    },
    {
      "cell_type": "code",
      "source": [
        "n = 1\n",
        "while n <= 100:\n",
        "  if n % 7 == 0:\n",
        "    print(n)\n",
        "  n += 1"
      ],
      "metadata": {
        "id": "hzJ-lSZr-V9v"
      },
      "execution_count": null,
      "outputs": []
    },
    {
      "cell_type": "code",
      "source": [
        "# 이미테이션게임\n",
        "# 스티브 잡스\n",
        "# A4 3장"
      ],
      "metadata": {
        "id": "cXnvlDvWu7-C"
      },
      "execution_count": 33,
      "outputs": []
    }
  ]
}