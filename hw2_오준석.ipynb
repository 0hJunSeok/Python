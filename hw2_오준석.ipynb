{
  "nbformat": 4,
  "nbformat_minor": 0,
  "metadata": {
    "colab": {
      "name": "hw2 오준석",
      "provenance": [],
      "collapsed_sections": [],
      "authorship_tag": "ABX9TyNXMm9miFweip/IaJwWh7DO",
      "include_colab_link": true
    },
    "kernelspec": {
      "name": "python3",
      "display_name": "Python 3"
    },
    "language_info": {
      "name": "python"
    }
  },
  "cells": [
    {
      "cell_type": "markdown",
      "metadata": {
        "id": "view-in-github",
        "colab_type": "text"
      },
      "source": [
        "<a href=\"https://colab.research.google.com/github/0hJunSeok/Python/blob/main/hw2_%EC%98%A4%EC%A4%80%EC%84%9D.ipynb\" target=\"_parent\"><img src=\"https://colab.research.google.com/assets/colab-badge.svg\" alt=\"Open In Colab\"/></a>"
      ]
    },
    {
      "cell_type": "code",
      "execution_count": null,
      "metadata": {
        "colab": {
          "base_uri": "https://localhost:8080/"
        },
        "id": "wAksC1stCBcu",
        "outputId": "d9205414-555d-47cb-bf21-c8aad872de1e"
      },
      "outputs": [
        {
          "output_type": "stream",
          "name": "stdout",
          "text": [
            "['닥터 스트레인지', '스플릿', '럭키']\n"
          ]
        }
      ],
      "source": [
        "# 051\n",
        "movie_rank = ['닥터 스트레인지', '스플릿', '럭키'] \n",
        "print(movie_rank)"
      ]
    },
    {
      "cell_type": "code",
      "source": [
        "# 052\n",
        "movie_rank.append('배트맨') # append 끝에서 부터 추가\n",
        "print(movie_rank)"
      ],
      "metadata": {
        "colab": {
          "base_uri": "https://localhost:8080/"
        },
        "id": "eiTGqZUBDgC0",
        "outputId": "44c7ad3e-73d1-4574-feb8-0aa6866490fe"
      },
      "execution_count": null,
      "outputs": [
        {
          "output_type": "stream",
          "name": "stdout",
          "text": [
            "['닥터 스트레인지', '스플릿', '럭키', '배트맨']\n"
          ]
        }
      ]
    },
    {
      "cell_type": "code",
      "source": [
        "# 053\n",
        "movie_rank.insert(1, '슈퍼맨') # insert 위치를 정해서 추가\n",
        "print(movie_rank)"
      ],
      "metadata": {
        "colab": {
          "base_uri": "https://localhost:8080/"
        },
        "id": "SWxH12DFD7fT",
        "outputId": "3ab717f9-669f-4971-ea3c-4763288e9800"
      },
      "execution_count": null,
      "outputs": [
        {
          "output_type": "stream",
          "name": "stdout",
          "text": [
            "['닥터 스트레인지', '슈퍼맨', '스플릿', '럭키', '배트맨']\n"
          ]
        }
      ]
    },
    {
      "cell_type": "code",
      "source": [
        "# 054\n",
        "movie_rank.pop(3) # 위치를 정해서 삭제\n",
        "print(movie_rank)"
      ],
      "metadata": {
        "colab": {
          "base_uri": "https://localhost:8080/"
        },
        "id": "mCi_a2-eEYfv",
        "outputId": "c4561ae1-3c1f-4115-94c6-cd89b3dd1cf6"
      },
      "execution_count": null,
      "outputs": [
        {
          "output_type": "stream",
          "name": "stdout",
          "text": [
            "['닥터 스트레인지', '슈퍼맨', '스플릿', '배트맨']\n"
          ]
        }
      ]
    },
    {
      "cell_type": "code",
      "source": [
        "# 055\n",
        "movie_rank.pop()\n",
        "movie_rank.pop() # 끝에서 부터 삭제\n",
        "print(movie_rank)"
      ],
      "metadata": {
        "colab": {
          "base_uri": "https://localhost:8080/"
        },
        "id": "uf7zXdv4ExK-",
        "outputId": "4e7686a0-9dde-4925-d83d-5b239cc9603a"
      },
      "execution_count": null,
      "outputs": [
        {
          "output_type": "stream",
          "name": "stdout",
          "text": [
            "['닥터 스트레인지', '슈퍼맨']\n"
          ]
        }
      ]
    },
    {
      "cell_type": "code",
      "source": [
        "# 056\n",
        "lang1 = ['C', 'C++', 'JAVA']\n",
        "lang2 = ['Python', 'Go', 'C#']\n",
        "langs = lang1 + lang2 # 리스트 합치기 가능\n",
        "print(langs)"
      ],
      "metadata": {
        "colab": {
          "base_uri": "https://localhost:8080/"
        },
        "id": "GY0Wju3jGzsl",
        "outputId": "e603d1ea-1fcb-4e80-e6ed-eaae0593a0ef"
      },
      "execution_count": null,
      "outputs": [
        {
          "output_type": "stream",
          "name": "stdout",
          "text": [
            "['C', 'C++', 'JAVA', 'Python', 'Go', 'C#']\n"
          ]
        }
      ]
    },
    {
      "cell_type": "code",
      "source": [
        "# 057\n",
        "nums = [1, 2, 3, 4, 5, 6, 7]\n",
        "print(f'max : {max(nums)}') # 최댓값\n",
        "print(f'min : {min(nums)}') # 최솟값"
      ],
      "metadata": {
        "colab": {
          "base_uri": "https://localhost:8080/"
        },
        "id": "kERv8N2JI3_v",
        "outputId": "3ed6dacf-2a19-427f-d7dd-0eccbe17bc8e"
      },
      "execution_count": null,
      "outputs": [
        {
          "output_type": "stream",
          "name": "stdout",
          "text": [
            "max : 7\n",
            "min : 1\n"
          ]
        }
      ]
    },
    {
      "cell_type": "code",
      "source": [
        "# 058\n",
        "nums = [1, 2, 3, 4, 5]\n",
        "print(sum(nums))"
      ],
      "metadata": {
        "id": "1djuEsAqLCe5",
        "colab": {
          "base_uri": "https://localhost:8080/"
        },
        "outputId": "e6a1cf06-b42d-453d-9e61-a7cf132a95c4"
      },
      "execution_count": null,
      "outputs": [
        {
          "output_type": "stream",
          "name": "stdout",
          "text": [
            "15\n"
          ]
        }
      ]
    },
    {
      "cell_type": "code",
      "source": [
        "# 059\n",
        "cook = [\"피자\", \"김밥\", \"만두\", \"양념치킨\", \"족발\", \"피자\", \"김치만두\",\n",
        "\"쫄면\", \"쏘세지\", \"라면\", \"팥빙수\", \"김치전\"]\n",
        "print(len(cook))"
      ],
      "metadata": {
        "id": "-9GlZo09MymU",
        "colab": {
          "base_uri": "https://localhost:8080/"
        },
        "outputId": "d9cf3d7a-4643-4960-9b76-4b932a2f93d6"
      },
      "execution_count": null,
      "outputs": [
        {
          "output_type": "stream",
          "name": "stdout",
          "text": [
            "12\n"
          ]
        }
      ]
    },
    {
      "cell_type": "code",
      "source": [
        "# 060\n",
        "nums = [1, 2, 3, 4, 5]\n",
        "print(sum(nums) / len(nums))"
      ],
      "metadata": {
        "id": "UEJB1onmM0uY",
        "colab": {
          "base_uri": "https://localhost:8080/"
        },
        "outputId": "45bfb84e-fe43-4312-ab1d-6135118edd6d"
      },
      "execution_count": null,
      "outputs": [
        {
          "output_type": "stream",
          "name": "stdout",
          "text": [
            "3.0\n"
          ]
        }
      ]
    },
    {
      "cell_type": "code",
      "source": [
        "# 121 *\n",
        "a = input('>> ')\n",
        "if a.islower():\n",
        "  print(f'\\n {a.upper()}')\n",
        "else:\n",
        "  print(f'\\n {a.lower()}')"
      ],
      "metadata": {
        "id": "4TvbDALzNIwx",
        "colab": {
          "base_uri": "https://localhost:8080/"
        },
        "outputId": "4bbae223-7894-4175-96cc-8ef9a17697ec"
      },
      "execution_count": null,
      "outputs": [
        {
          "output_type": "stream",
          "name": "stdout",
          "text": [
            ">> a\n",
            "\n",
            " A\n"
          ]
        }
      ]
    },
    {
      "cell_type": "code",
      "source": [
        "# 122\n",
        "score = int(input('>> score : '))\n",
        "\n",
        "if score >= 81:\n",
        "  grade = 'A'\n",
        "elif score >= 61:\n",
        "  grade = 'b'\n",
        "elif score >= 41:\n",
        "  grade = 'c'\n",
        "elif score >= 21:\n",
        "  grade = 'D'\n",
        "else:\n",
        "  grade = 'E'\n",
        "print(f'\\n grade is {grade}.')"
      ],
      "metadata": {
        "colab": {
          "base_uri": "https://localhost:8080/"
        },
        "id": "22tUC8hUNjfP",
        "outputId": "72452b71-28f3-495d-99f4-5904f4d02d2e"
      },
      "execution_count": null,
      "outputs": [
        {
          "output_type": "stream",
          "name": "stdout",
          "text": [
            ">> score : 83\n",
            "\n",
            " grade is A.\n"
          ]
        }
      ]
    },
    {
      "cell_type": "code",
      "source": [
        "# 123 *"
      ],
      "metadata": {
        "id": "JKVEO5BxOjxb"
      },
      "execution_count": null,
      "outputs": []
    },
    {
      "cell_type": "code",
      "source": [
        "# 124\n",
        "num1 = int(input('>> input number1 : '))\n",
        "num2 = int(input('>> input number2 : '))\n",
        "num3 = int(input('>> input number3 : '))\n",
        "\n",
        "if num1 > num2 and num1 > num3:\n",
        "  result = num1\n",
        "elif num3 > num2 and num3 > num1:\n",
        "  result = num3\n",
        "else:\n",
        "  result = num2\n",
        "\n",
        "print(result)"
      ],
      "metadata": {
        "colab": {
          "base_uri": "https://localhost:8080/"
        },
        "id": "t5r2f9MNOlU9",
        "outputId": "6d0b4ba5-3d8d-42b2-fb2b-4a6a0faa29f7"
      },
      "execution_count": null,
      "outputs": [
        {
          "output_type": "stream",
          "name": "stdout",
          "text": [
            ">> input number1 : 10\n",
            ">> input number2 : 9\n",
            ">> input number3 : 20\n",
            "20\n"
          ]
        }
      ]
    },
    {
      "cell_type": "code",
      "source": [
        "# 125\n",
        "pon = input('>> 휴대전화 번호 입력 : ')\n",
        "\n",
        "num = int(pon[2])\n",
        "\n",
        "if num == 1:\n",
        "  result = 'SKT'\n",
        "elif num == 6:\n",
        "  result = 'KT'\n",
        "elif num == 9:\n",
        "  result = 'LGU'\n",
        "else:\n",
        "  result = '알수없음'\n",
        "\n",
        "print(f'\\n 당신은 {result} 사용자 입니다.')"
      ],
      "metadata": {
        "colab": {
          "base_uri": "https://localhost:8080/"
        },
        "id": "l4o0KTxrOm7X",
        "outputId": "bf6e3cf0-5a97-44d7-edca-f9c626ea5c45"
      },
      "execution_count": null,
      "outputs": [
        {
          "output_type": "stream",
          "name": "stdout",
          "text": [
            ">> 휴대전화 번호 입력 : 011-345-1922\n",
            "\n",
            " 당신은 SKT 사용자 입니다.\n"
          ]
        }
      ]
    },
    {
      "cell_type": "code",
      "source": [
        "# 126\n",
        "mail = input('>> 우편번호 : ')\n",
        "\n",
        "num = int(mail[2])\n",
        "\n",
        "if num <= 2:\n",
        "  result = '강북구'\n",
        "elif num <= 5:\n",
        "  result = '도봉구'\n",
        "else:\n",
        "  result = '노원구'\n",
        "\n",
        "print(f'\\n {result}')"
      ],
      "metadata": {
        "colab": {
          "base_uri": "https://localhost:8080/"
        },
        "id": "9fiWeCG_OrZd",
        "outputId": "4745805b-88fb-479c-e514-601c52eda3ac"
      },
      "execution_count": null,
      "outputs": [
        {
          "output_type": "stream",
          "name": "stdout",
          "text": [
            ">> 우편번호 : 01400\n",
            "\n",
            " 도봉구\n"
          ]
        }
      ]
    },
    {
      "cell_type": "code",
      "source": [
        "# 127\n",
        "people = input('>> 주민등록번호 : ')\n",
        "\n",
        "num = int(people[-7])\n",
        "\n",
        "if num == 1:\n",
        "  result = '남자'\n",
        "elif num == 2:\n",
        "  result = '여자'\n",
        "elif num == 3:\n",
        "  result = '남자'\n",
        "elif num == 4:\n",
        "  result = '여자'\n",
        "else:\n",
        "  result = '잘못 입력하셨습니다.'\n",
        "\n",
        "print(f'\\n {result}')"
      ],
      "metadata": {
        "colab": {
          "base_uri": "https://localhost:8080/"
        },
        "id": "3r23syteOsxX",
        "outputId": "0a7f50df-7849-4834-df42-edb739c1cc9a"
      },
      "execution_count": null,
      "outputs": [
        {
          "output_type": "stream",
          "name": "stdout",
          "text": [
            ">> 주민등록번호 : 821010-1635210\n",
            "\n",
            " 남자\n"
          ]
        }
      ]
    },
    {
      "cell_type": "code",
      "source": [
        "# 128\n",
        "people = input('>> 주민등록번호 : ')\n",
        "\n",
        "num = int(people[-6])\n",
        "num1 = int(people[-5])\n",
        "\n",
        "if num1 >= 9:\n",
        "  print(f'\\n 서울이 아닙니다.')\n",
        "elif num == 0:\n",
        "  print(f'\\n 서울 입니다.')\n",
        "else:\n",
        "  print(f'\\n 서울이 아닙니다.')"
      ],
      "metadata": {
        "colab": {
          "base_uri": "https://localhost:8080/"
        },
        "id": "pzkgcRQXOvUk",
        "outputId": "bd7b4a22-3f65-4361-97db-d8686e29b73a"
      },
      "execution_count": null,
      "outputs": [
        {
          "output_type": "stream",
          "name": "stdout",
          "text": [
            ">> 주민등록번호 : 821010-1635210\n",
            "\n",
            " 서울이 아닙니다.\n"
          ]
        }
      ]
    },
    {
      "cell_type": "code",
      "source": [
        "# 129 *\n",
        "num = input('>> 주민등록번호 : ')\n",
        "\n",
        "result1 = int(num[0]) * 2 + int(num[1]) * 3 + int(num[2]) * 4 + int(num[3]) * 5 + int(num[4]) * 6 + int(num[5]) * 7 + int(num[7]) * 8 + int(num[8]) * 9 + int(num[9]) * 2 + int(num[10])* 3 + int(num[11])* 4 + int(num[12]) * 5\n",
        "result2 = (result1 % 11) - 11\n",
        "result3 = str(result2)\n",
        "\n",
        "if num[-1] == result3[-1]:\n",
        "  print(f'\\n 유효한 주민등록번호입니다.')\n",
        "else:\n",
        "  print(f'\\n 유효하지 않은 주민등록번호입니다.')"
      ],
      "metadata": {
        "id": "o92cpCLGOwu_",
        "colab": {
          "base_uri": "https://localhost:8080/"
        },
        "outputId": "458f27ad-ff7e-496a-db42-cf786b39cf63"
      },
      "execution_count": null,
      "outputs": [
        {
          "output_type": "stream",
          "name": "stdout",
          "text": [
            ">> 주민등록번호 : 821010-1635210\n",
            "\n",
            " 유효하지 않은 주민등록번호입니다.\n"
          ]
        }
      ]
    },
    {
      "cell_type": "code",
      "source": [
        "# 130 *\n",
        "import requests\n",
        "btc = requests.get(\"https://api.bithumb.com/public/ticker/\").json()['data']\n",
        "\n",
        "변동폭 = float(btc['max_price']) - float(btc['min_price'])\n",
        "시가 = float(btc['opening_price'])\n",
        "최고가 = float(btc['max_price'])  \n",
        "\n",
        "if (시가 + 변동폭) > 최고가:\n",
        "  print('상승장')\n",
        "else:\n",
        "  print('하락장')"
      ],
      "metadata": {
        "id": "YvVUqWHpOyeb"
      },
      "execution_count": null,
      "outputs": []
    }
  ]
}