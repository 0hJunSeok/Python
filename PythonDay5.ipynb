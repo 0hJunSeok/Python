{
  "nbformat": 4,
  "nbformat_minor": 0,
  "metadata": {
    "colab": {
      "name": "PythonDay5",
      "provenance": [],
      "authorship_tag": "ABX9TyNx7EfR2lr4TTTQGYS0ROAu",
      "include_colab_link": true
    },
    "kernelspec": {
      "name": "python3",
      "display_name": "Python 3"
    },
    "language_info": {
      "name": "python"
    }
  },
  "cells": [
    {
      "cell_type": "markdown",
      "metadata": {
        "id": "view-in-github",
        "colab_type": "text"
      },
      "source": [
        "<a href=\"https://colab.research.google.com/github/0hJunSeok/Python/blob/main/PythonDay5.ipynb\" target=\"_parent\"><img src=\"https://colab.research.google.com/assets/colab-badge.svg\" alt=\"Open In Colab\"/></a>"
      ]
    },
    {
      "cell_type": "code",
      "execution_count": null,
      "metadata": {
        "id": "8LqQnkirJoUi"
      },
      "outputs": [],
      "source": [
        "# for 문\n",
        "\n",
        "for n in [1,2,3]:\n",
        "  print(n)"
      ]
    },
    {
      "cell_type": "code",
      "source": [
        "n = 1\n",
        "while n in [1,2,3]:\n",
        "  print(n)\n",
        "  n += 1"
      ],
      "metadata": {
        "id": "Ek7YPGZeLmsu"
      },
      "execution_count": null,
      "outputs": []
    },
    {
      "cell_type": "code",
      "source": [
        "# 반복 가능 객체 (컬렉션)\n",
        "# 시킨스 자료형 - 문자열 리스틑 튜플 range\n",
        "# 비시퀸스 자료형 - 셋, 딕셔너리 (순서가 없다.)\n",
        "\n",
        "for ch in 'Hello':\n",
        "  print(ch)"
      ],
      "metadata": {
        "id": "Y7bCBWcyNBkq"
      },
      "execution_count": null,
      "outputs": []
    },
    {
      "cell_type": "code",
      "source": [
        "for item in ['가위','바위','보']:\n",
        "  print(item)"
      ],
      "metadata": {
        "id": "AKztyXPUNb4V"
      },
      "execution_count": null,
      "outputs": []
    },
    {
      "cell_type": "code",
      "source": [
        "# for 문과 tuple\n",
        "\n",
        "for season in ('Spring','Summer','Autumn','Winter'):\n",
        "  print(season)"
      ],
      "metadata": {
        "id": "X7iEWxB2NnQ6"
      },
      "execution_count": null,
      "outputs": []
    },
    {
      "cell_type": "code",
      "source": [
        "# for 문과 range()\n",
        "\n",
        "# range(5)  # 0부터 5미만(4까지)\n",
        "# range(2,10) # 2부터 10미만(9까지)"
      ],
      "metadata": {
        "id": "_C_dfBTaN9MD"
      },
      "execution_count": null,
      "outputs": []
    },
    {
      "cell_type": "code",
      "source": [
        "print(list(range(5)))\n",
        "print(list(range(2,10)))"
      ],
      "metadata": {
        "id": "CiHE01LeOkOj"
      },
      "execution_count": null,
      "outputs": []
    },
    {
      "cell_type": "code",
      "source": [
        "for n in [1,2,3,4,5,6,7,8,9,10]:\n",
        "  print(n)"
      ],
      "metadata": {
        "id": "Y89dzMpJO3zh"
      },
      "execution_count": null,
      "outputs": []
    },
    {
      "cell_type": "code",
      "source": [
        "for n in range(1,11):\n",
        "  print(n)"
      ],
      "metadata": {
        "id": "5lh7dcqSPBHb"
      },
      "execution_count": null,
      "outputs": []
    },
    {
      "cell_type": "code",
      "source": [
        "# for 문과 set\n",
        "\n",
        "for item in ('가위','바위','보'):\n",
        "  print(item)"
      ],
      "metadata": {
        "id": "tsZa7_qDPNxi"
      },
      "execution_count": null,
      "outputs": []
    },
    {
      "cell_type": "code",
      "source": [
        "# for 문과 딕셔너리\n",
        "\n",
        "person = {\n",
        "    'name':'에밀리', \n",
        "    'age':20\n",
        "}\n",
        "\n",
        "for item in person:\n",
        "  print(item, person[item])"
      ],
      "metadata": {
        "id": "Saex5kfvPohx"
      },
      "execution_count": null,
      "outputs": []
    },
    {
      "cell_type": "code",
      "source": [
        "n = int(input('임의의 양수를 입력하세요 >>> '))\n",
        "\n",
        "sum = 0\n",
        "for no in range(1,n+1):\n",
        "  sum += no\n",
        "print(f'1부터 {n}사이 모든 정수의 합계는 {sum}입니다')"
      ],
      "metadata": {
        "id": "boRpnQw6QWMW"
      },
      "execution_count": null,
      "outputs": []
    },
    {
      "cell_type": "code",
      "source": [
        "no = int(input('몇 개의 과일을 보관할까요? >>> '))\n",
        "\n",
        "basket = []\n",
        "\n",
        "for i in range(no):\n",
        "  fruit = input(f'{i+1}번째 과일을 입력하세요 >>> ')\n",
        "  basket.append(fruit)\n",
        "\n",
        "print(f'입력받은 과일들은 {basket}입니다')"
      ],
      "metadata": {
        "id": "zVrzQh1tSyLr"
      },
      "execution_count": null,
      "outputs": []
    },
    {
      "cell_type": "code",
      "source": [
        "n = 1\n",
        "while n <= 10:\n",
        "  print(n)\n",
        "\n",
        "  n += 1"
      ],
      "metadata": {
        "id": "MxzcnWqNUDbg"
      },
      "execution_count": null,
      "outputs": []
    },
    {
      "cell_type": "code",
      "source": [
        "n = 1\n",
        "while True:\n",
        "  print(n)\n",
        "  if n == 10:\n",
        "    break\n",
        "  n += 1"
      ],
      "metadata": {
        "id": "4CIKMmrDUucV"
      },
      "execution_count": null,
      "outputs": []
    },
    {
      "cell_type": "code",
      "source": [
        "total = 0\n",
        "for a in range(1,101):\n",
        "  if a % 3 == 0:\n",
        "    continue \n",
        "  total += a\n",
        "\n",
        "print(total)"
      ],
      "metadata": {
        "colab": {
          "base_uri": "https://localhost:8080/"
        },
        "id": "MEbURJ9hU-vd",
        "outputId": "e56aa4dd-dffc-4c08-defa-e464c0236c70"
      },
      "execution_count": null,
      "outputs": [
        {
          "output_type": "stream",
          "name": "stdout",
          "text": [
            "3367\n"
          ]
        }
      ]
    },
    {
      "cell_type": "code",
      "source": [
        "coin = 10000\n",
        "\n",
        "while True:\n",
        "  print(f'현재 {coin}원이 있습니다.')\n",
        "\n",
        "  if coin == 0:\n",
        "    break\n",
        "\n",
        "  pay = int(input('사용할 금액 입력 >>> '))\n",
        "\n",
        "  if pay <= 0:\n",
        "   print('0이하의 금액은 사용할 수 없습니다.')\n",
        "  elif pay > coin:\n",
        "   print(f'{pay - coin}원이 부족합니다.')\n",
        "  else:\n",
        "    coin -= pay"
      ],
      "metadata": {
        "id": "3kI__WvUX1e-"
      },
      "execution_count": null,
      "outputs": []
    },
    {
      "cell_type": "code",
      "source": [
        "while True:\n",
        "  score = int(input('이번 영화의 평점을 입력하세요 >>> '))\n",
        "\n",
        "  if score > 5 or score <= 0:\n",
        "    print('평점은 1~5 사이만 입력할수 있습니다.')\n",
        "  else:\n",
        "    print('평점 : ', '★' * score)\n",
        "    break"
      ],
      "metadata": {
        "colab": {
          "base_uri": "https://localhost:8080/"
        },
        "id": "0sjgKWdVxMNh",
        "outputId": "82be9d43-f350-4254-cb95-956ca576b961"
      },
      "execution_count": 4,
      "outputs": [
        {
          "output_type": "stream",
          "name": "stdout",
          "text": [
            "이번 영화의 평점을 입력하세요 >>> 10\n",
            "평점은 1~5 사이만 입력할수 있습니다.\n",
            "이번 영화의 평점을 입력하세요 >>> 5\n",
            "평점 :  ★★★★★\n"
          ]
        }
      ]
    },
    {
      "cell_type": "code",
      "source": [
        "answer = 'qwerty'\n",
        "\n",
        "no = 1\n",
        "\n",
        "while True:\n",
        "  password = input('비밀번호를 입력하세요 >>> ')\n",
        "\n",
        "  if answer == password:\n",
        "    print('비밀번호를 맞혔습니다.')\n",
        "    break \n",
        "\n",
        "  if no == 5:\n",
        "    print('비밀번호 입력횟수를 초과했습니다.')\n",
        "    break\n",
        "\n",
        "  no += 1 \n"
      ],
      "metadata": {
        "id": "DImxqqIN0jeX"
      },
      "execution_count": null,
      "outputs": []
    },
    {
      "cell_type": "code",
      "source": [
        "for i in range(2,10):\n",
        "  if i % 2 == 0:\n",
        "    continue\n",
        "  for j in range(1,10):\n",
        "    if j > i:\n",
        "      break\n",
        "    print(f'{i} * {j} = {i * j}')\n",
        "  print()"
      ],
      "metadata": {
        "id": "n7_dWlFM3cKG"
      },
      "execution_count": null,
      "outputs": []
    },
    {
      "cell_type": "code",
      "source": [
        "# 내장함수\n",
        "\n",
        "# enumerate()\n",
        "for item in enumerate(['가위','바위','보']):\n",
        "  print(item)"
      ],
      "metadata": {
        "colab": {
          "base_uri": "https://localhost:8080/"
        },
        "id": "ZpJo1oeVCYsv",
        "outputId": "e1589fda-521e-4f60-aa10-74b807c8b1b7"
      },
      "execution_count": 12,
      "outputs": [
        {
          "output_type": "stream",
          "name": "stdout",
          "text": [
            "(0, '가위')\n",
            "(1, '바위')\n",
            "(2, '보')\n"
          ]
        }
      ]
    },
    {
      "cell_type": "code",
      "source": [
        "for idx, item in enumerate(['가위','바위','보']):\n",
        "  print(idx + 1, item)"
      ],
      "metadata": {
        "colab": {
          "base_uri": "https://localhost:8080/"
        },
        "id": "eG0uilUVDfDs",
        "outputId": "dafe1a64-6ed9-4973-e9a3-e692aca382ad"
      },
      "execution_count": 14,
      "outputs": [
        {
          "output_type": "stream",
          "name": "stdout",
          "text": [
            "1 가위\n",
            "2 바위\n",
            "3 보\n"
          ]
        }
      ]
    },
    {
      "cell_type": "code",
      "source": [
        "# zip()\n",
        "\n",
        "names = ['james','emily','amanda']\n",
        "scores = [60,70,80]\n",
        "\n",
        "for student in zip(names,scores):\n",
        "  print(student)"
      ],
      "metadata": {
        "colab": {
          "base_uri": "https://localhost:8080/"
        },
        "id": "BDbXsNlJEJgT",
        "outputId": "954bb1ea-9f76-407a-e213-cae383128a84"
      },
      "execution_count": 15,
      "outputs": [
        {
          "output_type": "stream",
          "name": "stdout",
          "text": [
            "('james', 60)\n",
            "('emily', 70)\n",
            "('amanda', 80)\n"
          ]
        }
      ]
    },
    {
      "cell_type": "code",
      "source": [
        "names = ['james','emily','amanda']\n",
        "scores = [60,70,80]\n",
        "\n",
        "for name, score in zip(names,scores):\n",
        "  print(f'{name}의 점수는 {score}점 입니다.')"
      ],
      "metadata": {
        "colab": {
          "base_uri": "https://localhost:8080/"
        },
        "id": "TOl4rvWwFaKK",
        "outputId": "c61182e3-4fbe-4a27-e1c0-94c3bbc6be8a"
      },
      "execution_count": 16,
      "outputs": [
        {
          "output_type": "stream",
          "name": "stdout",
          "text": [
            "james의 점수는 60점 입니다.\n",
            "emily의 점수는 70점 입니다.\n",
            "amanda의 점수는 80점 입니다.\n"
          ]
        }
      ]
    },
    {
      "cell_type": "code",
      "source": [
        "# 사용자 함수\n",
        "\n",
        "# def 함수명(변수):\n",
        "#   본문\n",
        "#   return 결과"
      ],
      "metadata": {
        "id": "5k91NpeHH91Y"
      },
      "execution_count": null,
      "outputs": []
    },
    {
      "cell_type": "code",
      "source": [
        "# 1 인수 없고 반환 없는 사용자 정의 함수\n",
        "# 2 인수 있고 반환 없는 사용자 정의 함수\n",
        "# 3 인수 없고 반환 있는 사용자 정의 함수\n",
        "# 4 인수 있고 반환 있는 사용자 정의 함수"
      ],
      "metadata": {
        "id": "TtV4-gB6JBU0"
      },
      "execution_count": null,
      "outputs": []
    },
    {
      "cell_type": "code",
      "source": [
        "# 1 인수 없고 반환 없는 사용자 정의 함수\n",
        "\n",
        "def welcome():\n",
        "  print('Hello World')\n",
        "\n",
        "welcome() # 만들고 호출"
      ],
      "metadata": {
        "id": "KTEKCMMEJk67"
      },
      "execution_count": null,
      "outputs": []
    },
    {
      "cell_type": "code",
      "source": [
        "# 2 인수 있고 반환 없는 사용자 정의 함수\n",
        "\n",
        "def welcome(name):\n",
        "  print('Hello', name)\n",
        "\n",
        "welcome('Austin')"
      ],
      "metadata": {
        "id": "zHUvTUZGJ90x"
      },
      "execution_count": null,
      "outputs": []
    },
    {
      "cell_type": "code",
      "source": [
        "# 3 인수 없고 반환 있는 사용자 정의 함수\n",
        "\n",
        "def welcome():\n",
        "  return 1\n",
        "\n",
        "welcome()"
      ],
      "metadata": {
        "id": "1jFbXc95KaTM"
      },
      "execution_count": null,
      "outputs": []
    },
    {
      "cell_type": "code",
      "source": [
        "# 4 인수 있고 반환 있는 사용자 정의 함수\n",
        "\n",
        "def add(a, b):\n",
        "  return a + b\n",
        "\n",
        "add(3,4)"
      ],
      "metadata": {
        "id": "UMAs2tQdKz6f"
      },
      "execution_count": null,
      "outputs": []
    },
    {
      "cell_type": "code",
      "source": [
        "def introduce(name, age):\n",
        "  print(f'내이름은 {name}이고, 나이는 {age}살입니다.')\n",
        "\n",
        "introduce('james', 25)"
      ],
      "metadata": {
        "id": "3TP5oY96LXuX"
      },
      "execution_count": null,
      "outputs": []
    },
    {
      "cell_type": "code",
      "source": [
        "# 가변 매개변수\n",
        "\n",
        "def add(*args):\n",
        "  sum = 0\n",
        "  for item in args:\n",
        "    sum += item\n",
        "  print(sum)\n",
        "\n",
        "add(1,2,3,4,5,6,7,8,9)"
      ],
      "metadata": {
        "colab": {
          "base_uri": "https://localhost:8080/"
        },
        "id": "zlfLRqTzMtcm",
        "outputId": "76ec2dc7-f8ae-495f-d34b-beb0000cb93a"
      },
      "execution_count": 33,
      "outputs": [
        {
          "output_type": "stream",
          "name": "stdout",
          "text": [
            "45\n"
          ]
        }
      ]
    },
    {
      "cell_type": "code",
      "source": [
        "def add(*args):\n",
        "  print(sum(args))\n",
        "\n",
        "add(1,2,3,4,5,6,7,8,9)"
      ],
      "metadata": {
        "colab": {
          "base_uri": "https://localhost:8080/"
        },
        "id": "KwjfFHU-PSo8",
        "outputId": "f4216e82-5ab2-4de3-d747-f57325c278fc"
      },
      "execution_count": 36,
      "outputs": [
        {
          "output_type": "stream",
          "name": "stdout",
          "text": [
            "45\n"
          ]
        }
      ]
    },
    {
      "cell_type": "code",
      "source": [
        "# 디폴트 매개변수\n",
        "\n",
        "def greet(massage = '안녕하세요'):\n",
        "  print(massage)\n",
        "\n",
        "greet()"
      ],
      "metadata": {
        "colab": {
          "base_uri": "https://localhost:8080/"
        },
        "id": "j-ImrIUfOndu",
        "outputId": "8a4c9c01-0bd1-45a4-8d58-69a08fd4a35a"
      },
      "execution_count": 29,
      "outputs": [
        {
          "output_type": "stream",
          "name": "stdout",
          "text": [
            "안녕하세요\n"
          ]
        }
      ]
    },
    {
      "cell_type": "code",
      "source": [
        "greet('방가방가')"
      ],
      "metadata": {
        "id": "yPA8HT0kPATT"
      },
      "execution_count": null,
      "outputs": []
    }
  ]
}