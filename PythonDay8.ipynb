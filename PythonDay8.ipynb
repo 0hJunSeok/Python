{
  "nbformat": 4,
  "nbformat_minor": 0,
  "metadata": {
    "colab": {
      "name": "PythonDay8",
      "provenance": [],
      "collapsed_sections": [],
      "authorship_tag": "ABX9TyMpUdw9TDBZNlaMPBQuny8J",
      "include_colab_link": true
    },
    "kernelspec": {
      "name": "python3",
      "display_name": "Python 3"
    },
    "language_info": {
      "name": "python"
    }
  },
  "cells": [
    {
      "cell_type": "markdown",
      "metadata": {
        "id": "view-in-github",
        "colab_type": "text"
      },
      "source": [
        "<a href=\"https://colab.research.google.com/github/0hJunSeok/Python/blob/main/PythonDay8.ipynb\" target=\"_parent\"><img src=\"https://colab.research.google.com/assets/colab-badge.svg\" alt=\"Open In Colab\"/></a>"
      ]
    },
    {
      "cell_type": "code",
      "execution_count": 4,
      "metadata": {
        "colab": {
          "base_uri": "https://localhost:8080/"
        },
        "id": "PdfVb6BtQZ81",
        "outputId": "fdeec63a-48e4-42af-eca2-76ab4d1846df"
      },
      "outputs": [
        {
          "output_type": "stream",
          "name": "stdout",
          "text": [
            "3\n"
          ]
        }
      ],
      "source": [
        "# 클래스와 객체\n",
        "\n",
        "result1 = 0\n",
        "\n",
        "def add1(num): # 슈퍼마켓 계산대 계산기\n",
        "  global result1\n",
        "  result1 += num\n",
        "  return result1\n",
        "\n",
        "print(add1(3))"
      ]
    },
    {
      "cell_type": "code",
      "source": [
        "result1 = 0\n",
        "result2 = 0\n",
        "\n",
        "def add1(num): # 슈퍼마켓 계산대 계산기\n",
        "  global result1\n",
        "  result1 += num\n",
        "  return result1\n",
        "\n",
        "def add2(num): # 슈퍼마켓 계산대 계산기\n",
        "  global result2\n",
        "  result2 += num\n",
        "  return result2\n",
        "\n",
        "print(add2(4))"
      ],
      "metadata": {
        "colab": {
          "base_uri": "https://localhost:8080/"
        },
        "id": "Ty2O_pFERpeL",
        "outputId": "6493332c-ce45-482a-e320-79a171be5242"
      },
      "execution_count": 5,
      "outputs": [
        {
          "output_type": "stream",
          "name": "stdout",
          "text": [
            "4\n"
          ]
        }
      ]
    },
    {
      "cell_type": "code",
      "source": [
        "print(add1(1))\n",
        "print(add2(3))"
      ],
      "metadata": {
        "colab": {
          "base_uri": "https://localhost:8080/"
        },
        "id": "QwH9XrHmRTFL",
        "outputId": "8bec1f75-828d-49cb-da74-49e5774c89bc"
      },
      "execution_count": 6,
      "outputs": [
        {
          "output_type": "stream",
          "name": "stdout",
          "text": [
            "1\n",
            "7\n"
          ]
        }
      ]
    },
    {
      "cell_type": "code",
      "source": [
        "print(add1(4))\n",
        "print(add2(3))"
      ],
      "metadata": {
        "colab": {
          "base_uri": "https://localhost:8080/"
        },
        "id": "Opoh3Rg7SVvX",
        "outputId": "27cd9c55-b38d-40ca-c2da-8d94c5fa4508"
      },
      "execution_count": 7,
      "outputs": [
        {
          "output_type": "stream",
          "name": "stdout",
          "text": [
            "5\n",
            "10\n"
          ]
        }
      ]
    },
    {
      "cell_type": "code",
      "source": [
        "class Calculator:\n",
        "  def __init__(self):\n",
        "    self.result = 0\n",
        "\n",
        "  def add(self, num):\n",
        "    self.result += num\n",
        "    return self.result\n",
        "\n",
        "cal1 = Calculator()\n",
        "cal2 = Calculator()\n",
        "\n",
        "print(cal1.add(3))\n",
        "print(cal2.add(4))\n",
        "\n",
        "print(cal1.add(3))\n",
        "print(cal2.add(7))"
      ],
      "metadata": {
        "colab": {
          "base_uri": "https://localhost:8080/"
        },
        "id": "Bn6zUOuySl9e",
        "outputId": "50407c2b-8d2d-41de-95c8-dd661f7512d6"
      },
      "execution_count": 13,
      "outputs": [
        {
          "output_type": "stream",
          "name": "stdout",
          "text": [
            "3\n",
            "4\n",
            "6\n",
            "11\n"
          ]
        }
      ]
    },
    {
      "cell_type": "code",
      "source": [
        "class Candy:\n",
        "  def set_info(self, shape, color):\n",
        "    self.shape = shape\n",
        "    self.color = color\n",
        "  \n",
        "satang = Candy()\n",
        "satang.set_info('circle','brown')\n",
        "\n",
        "print(satang.shape)\n",
        "print(satang.color)"
      ],
      "metadata": {
        "colab": {
          "base_uri": "https://localhost:8080/"
        },
        "id": "0aHeBlRAUrNg",
        "outputId": "f09235c2-302c-49c5-df90-fed26b8a0c78"
      },
      "execution_count": 14,
      "outputs": [
        {
          "output_type": "stream",
          "name": "stdout",
          "text": [
            "circle\n",
            "brown\n"
          ]
        }
      ]
    },
    {
      "cell_type": "code",
      "source": [
        "class Candy:\n",
        "  def __init__(self, shape, color):\n",
        "    self.shape = shape\n",
        "    self.color = color\n",
        "\n",
        "satang = Candy('circle','brown')\n",
        "\n",
        "print(satang.shape)\n",
        "print(satang.color)"
      ],
      "metadata": {
        "id": "sbhP3KBWWBWm"
      },
      "execution_count": null,
      "outputs": []
    },
    {
      "cell_type": "code",
      "source": [
        "# 클래스 변수는 객체들이 함께 사용하는 공유 변수이다.\n",
        "# 하지만 객체지향의 핵심은 객체들이 각기 따로따로 변수값을 가지고 있다는 것이다.\n",
        "\n",
        "class Korean:\n",
        "  country = '한국'\n",
        "\n",
        "  def __init__(self, name, age, address):\n",
        "    self.name = name\n",
        "    self.age = age\n",
        "    self.address = address\n",
        "\n",
        "man = Korean('홍길동','17','서울')\n",
        "man.name\n",
        "man.country\n",
        "Korean.country\n",
        "\n",
        "woman = Korean('성춘향','14','남원')\n",
        "woman.name"
      ],
      "metadata": {
        "colab": {
          "base_uri": "https://localhost:8080/",
          "height": 35
        },
        "id": "sv4J9CEsXrGE",
        "outputId": "cd9905ee-5e17-4c28-f921-d6f9ff9fc005"
      },
      "execution_count": 24,
      "outputs": [
        {
          "output_type": "execute_result",
          "data": {
            "text/plain": [
              "'성춘향'"
            ],
            "application/vnd.google.colaboratory.intrinsic+json": {
              "type": "string"
            }
          },
          "metadata": {},
          "execution_count": 24
        }
      ]
    },
    {
      "cell_type": "code",
      "source": [
        "woman.country"
      ],
      "metadata": {
        "colab": {
          "base_uri": "https://localhost:8080/",
          "height": 35
        },
        "id": "F4rZF_-CZLJf",
        "outputId": "97fc8351-90f0-48c3-854f-0dd20d3d3841"
      },
      "execution_count": 25,
      "outputs": [
        {
          "output_type": "execute_result",
          "data": {
            "text/plain": [
              "'한국'"
            ],
            "application/vnd.google.colaboratory.intrinsic+json": {
              "type": "string"
            }
          },
          "metadata": {},
          "execution_count": 25
        }
      ]
    },
    {
      "cell_type": "code",
      "source": [
        "# 클래스 매서드\n",
        "\n",
        "# 객체를 생성하지 않고도 호출하여 사용할 수 있다.     클래스명.메소드명\n",
        "# @classmethod 데코레이터 장식자를 표시하여 사용한다.\n",
        "# 매개변수 slef 를 사용하지 않고 cls 를 사용한다.\n",
        "\n",
        "class Korean:\n",
        "\n",
        "  country = '한국' # 클래스 변수\n",
        "\n",
        "  @classmethod\n",
        "  def trip(cls, country):\n",
        "    if cls.country == country:\n",
        "      print('국내 여행입니다.')\n",
        "    else:\n",
        "      print('해외 여행입니다.')\n",
        "\n",
        "Korean.trip('한국')\n",
        "Korean.trip('미국')"
      ],
      "metadata": {
        "colab": {
          "base_uri": "https://localhost:8080/"
        },
        "id": "bfGQZ-fxb54s",
        "outputId": "a190736e-1ee4-4b6a-9009-c701954c5a31"
      },
      "execution_count": 36,
      "outputs": [
        {
          "output_type": "stream",
          "name": "stdout",
          "text": [
            "국내 여행입니다.\n",
            "해외 여행입니다.\n"
          ]
        }
      ]
    },
    {
      "cell_type": "code",
      "source": [
        "# 정적 매서드 static nethod\n",
        "\n",
        "# 1.객체 또는 클래스로 호출한다.\n",
        "# 2.@staticmathod 데코레이터 장식자로 표시한다.\n",
        "# 3.매개변수는 없을수도 있다.\n",
        "\n",
        "# 정적 매서드는 self와 cls 모두 사용하지 않는다.\n",
        "# 하지만 정적 매서드는 클래스에 소속되어있어도 객체에는 영향을 주지않고\n",
        "# 또 객체로부터도 영향을 받지 않는다.\n",
        "\n",
        "class Korean:\n",
        "  country = '한국' # 클래스 변수\n",
        "\n",
        "  @staticmethod\n",
        "  def slogan():\n",
        "    print('lmagine your Korea')\n",
        "\n",
        "Korean.slogan()"
      ],
      "metadata": {
        "id": "ODvH-P6_daRv"
      },
      "execution_count": null,
      "outputs": []
    },
    {
      "cell_type": "code",
      "source": [
        "# 상속\n",
        "\n",
        "# 어떤 클래스가 가지고 있는 기능을 그대로 물려받아서 사용하는 클래스를 만들수 있다\n",
        "# 다른 클래스의 기능을 물려받는 다는 의미로 상속이라는 표현을 쓴다.\n",
        "\n",
        "# 부모 클래스     자식 클래스\n",
        "# 슈퍼 클래스     서브 클래스\n",
        "# 기반 클래스     파생 클래스\n",
        "\n",
        "# 서브클래스의 생성자를 구현할때는 반드시 슈퍼크래스의 생성자를 \n",
        "# 먼저 호출하는 코드를 작성해야 한다. 자식은 반드시 부모가 있어야 태어날수가 있다.             \n",
        "class Person:\n",
        "  def __init__(self, name):\n",
        "    self.name = name\n",
        "\n",
        "  def eat(self, food):\n",
        "    print(self.name + '가' + food + '를 먹습니다.')\n",
        "\n",
        "class Student(Person):\n",
        "  def __init__(self, name, school):\n",
        "    super().__init__(name)\n",
        "    self.school = school\n",
        "\n",
        "  def study(self):\n",
        "    print(self.name + '는' + self.school + '애서 공부를 합니다.')\n",
        "\n",
        "potter = Student('해리포터','호그와트')\n",
        "potter.eat('감자')\n",
        "potter.study()"
      ],
      "metadata": {
        "colab": {
          "base_uri": "https://localhost:8080/"
        },
        "id": "K3B6iYcDe1S3",
        "outputId": "ffcee9fd-8bdd-42ec-d3ab-f5cd83770299"
      },
      "execution_count": 38,
      "outputs": [
        {
          "output_type": "stream",
          "name": "stdout",
          "text": [
            "해리포터가감자를 먹습니다.\n",
            "해리포터는호그와트애서 공부를 합니다.\n"
          ]
        }
      ]
    },
    {
      "cell_type": "code",
      "source": [
        "class Person:\n",
        "\n",
        "  population = 0\n",
        "\n",
        "  def __init__(self, name):\n",
        "    self.name = name\n",
        "    Person.population += 1\n",
        "    print(f'{self.name} is born')\n",
        "\n",
        "  def __del__(self):\n",
        "    Person.population -= 1\n",
        "    print(f'{self.name} is dead')\n",
        "\n",
        "  @classmethod\n",
        "  def get_population(cls):\n",
        "    return cls.population\n",
        "  \n",
        "  man = Person('james')\n",
        "  woman = Person('emily')\n",
        "\n",
        "  print(f'전체 인구수 : {Person.get_population()}명')\n",
        "  del man\n",
        "  print(f'전체 인구수 : {Person.get_population()}명')"
      ],
      "metadata": {
        "colab": {
          "base_uri": "https://localhost:8080/"
        },
        "id": "UfDEk488icsE",
        "outputId": "1ca0c661-d17b-41e2-caa2-97bf0a952146"
      },
      "execution_count": 48,
      "outputs": [
        {
          "output_type": "stream",
          "name": "stdout",
          "text": [
            "james is born\n",
            "emily is born\n",
            "전체 인구수 : 2명\n",
            "james is dead\n",
            "전체 인구수 : 1명\n"
          ]
        }
      ]
    },
    {
      "cell_type": "code",
      "source": [
        "# 예외 처리  exception\n",
        "\n",
        "2/0"
      ],
      "metadata": {
        "colab": {
          "base_uri": "https://localhost:8080/",
          "height": 211
        },
        "id": "xXo_sjIuqi9S",
        "outputId": "3e995970-a492-4944-dc2c-f6dc8afe6922"
      },
      "execution_count": 57,
      "outputs": [
        {
          "output_type": "error",
          "ename": "ZeroDivisionError",
          "evalue": "ignored",
          "traceback": [
            "\u001b[0;31m---------------------------------------------------------------------------\u001b[0m",
            "\u001b[0;31mZeroDivisionError\u001b[0m                         Traceback (most recent call last)",
            "\u001b[0;32m<ipython-input-57-3b6b4c888e0d>\u001b[0m in \u001b[0;36m<module>\u001b[0;34m()\u001b[0m\n\u001b[1;32m      1\u001b[0m \u001b[0;31m# 예외 처리  exception\u001b[0m\u001b[0;34m\u001b[0m\u001b[0;34m\u001b[0m\u001b[0;34m\u001b[0m\u001b[0m\n\u001b[1;32m      2\u001b[0m \u001b[0;34m\u001b[0m\u001b[0m\n\u001b[0;32m----> 3\u001b[0;31m \u001b[0;36m2\u001b[0m\u001b[0;34m/\u001b[0m\u001b[0;36m0\u001b[0m\u001b[0;34m\u001b[0m\u001b[0;34m\u001b[0m\u001b[0m\n\u001b[0m",
            "\u001b[0;31mZeroDivisionError\u001b[0m: division by zero"
          ]
        }
      ]
    },
    {
      "cell_type": "code",
      "source": [
        "li = [1,2,3]\n",
        "li[3]"
      ],
      "metadata": {
        "id": "itcQH-8UrLCP"
      },
      "execution_count": null,
      "outputs": []
    },
    {
      "cell_type": "code",
      "source": [
        "a = int(input('제수를 입력하세요 >>> '))\n",
        "b = int(input('피재수를 입력하세요 >>>'))\n",
        "\n",
        "if b == 0:\n",
        "  print('0으로 나누는 것은 불가능합니다.')\n",
        "else:\n",
        "  print(f'{a/b}')\n",
        "\n",
        "# 1.어떤 문제가 발생할지 예상 해야만 처리할수 있다.\n",
        "# 2.어떤 문제가 발생할지 예상을 하더라도 대비할수 없을수도 있다."
      ],
      "metadata": {
        "colab": {
          "base_uri": "https://localhost:8080/"
        },
        "id": "LfcuQlxyrLlz",
        "outputId": "1b163bff-5311-462f-c2ec-a650b79d9108"
      },
      "execution_count": 55,
      "outputs": [
        {
          "output_type": "stream",
          "name": "stdout",
          "text": [
            "제수를 입력하세요 >>> 2\n",
            "피재수를 입력하세요 >>>0\n",
            "0으로 나누는 것은 불가능합니다.\n"
          ]
        }
      ]
    },
    {
      "cell_type": "code",
      "source": [
        "try:\n",
        "  a = int(input('제수를 입력하세요 >>> '))\n",
        "  b = int(input('피제수를 입력하세요 >>>'))\n",
        "  print(f'{a/b}')\n",
        "except ZeroDivisionError:\n",
        "  print('0으로는 나눌수 없습니다.')\n",
        "except ValueError:\n",
        "  print('정수만 입력할 수 있습니다.')"
      ],
      "metadata": {
        "colab": {
          "base_uri": "https://localhost:8080/"
        },
        "id": "XDXGJwM9r9Un",
        "outputId": "3d2b9783-a212-4901-e6a9-897f5c5b7b2f"
      },
      "execution_count": 59,
      "outputs": [
        {
          "output_type": "stream",
          "name": "stdout",
          "text": [
            "제수를 입력하세요 >>> ㄴㅇㅁㄻㄴㄹ\n",
            "정수만 입력할 수 있습니다.\n"
          ]
        }
      ]
    },
    {
      "cell_type": "code",
      "source": [
        "try:\n",
        "  a = int(input('제수를 입력하세요 >>> '))\n",
        "  b = int(input('피제수를 입력하세요 >>>'))\n",
        "  print(f'{a/b}')\n",
        "except ZeroDivisionError as e:\n",
        "  print(e)\n",
        "except ValueError as e:\n",
        "  print(e)"
      ],
      "metadata": {
        "colab": {
          "base_uri": "https://localhost:8080/"
        },
        "id": "I8U7EQ1Ut8Dd",
        "outputId": "96c98e35-87eb-4256-f392-e7a9d9d11ae3"
      },
      "execution_count": 62,
      "outputs": [
        {
          "output_type": "stream",
          "name": "stdout",
          "text": [
            "제수를 입력하세요 >>> 러ㅗ하\n",
            "invalid literal for int() with base 10: '러ㅗ하'\n"
          ]
        }
      ]
    },
    {
      "cell_type": "code",
      "source": [
        "try:\n",
        "  a = int(input('제수를 입력하세요 >>> '))\n",
        "  b = int(input('피제수를 입력하세요 >>>'))\n",
        "  result = a/b\n",
        "except ZeroDivisionError as e:\n",
        "  print(e)\n",
        "except ValueError as e:\n",
        "  print(e)\n",
        "else: # 에러가 발생하지 않았을 때\n",
        "  print(f'{result}')"
      ],
      "metadata": {
        "id": "7ZVxld0TudNw"
      },
      "execution_count": null,
      "outputs": []
    },
    {
      "cell_type": "code",
      "source": [
        "try:\n",
        "  a = int(input('제수를 입력하세요 >>> '))\n",
        "  b = int(input('피제수를 입력하세요 >>>'))\n",
        "  result = a/b\n",
        "except ZeroDivisionError as e:\n",
        "  print(e)\n",
        "except ValueError as e:\n",
        "  print(e)\n",
        "else: # 에러가 발생하지 않았을 때\n",
        "  print(f'{result}')\n",
        "finally:  # 언제나 마지막에 거쳐서 끝낸다.\n",
        "  print('프로그램 종료')"
      ],
      "metadata": {
        "colab": {
          "base_uri": "https://localhost:8080/"
        },
        "id": "8Xo5lYHzuzr3",
        "outputId": "791d8928-3016-4afb-a65a-8d992c19e945"
      },
      "execution_count": 63,
      "outputs": [
        {
          "output_type": "stream",
          "name": "stdout",
          "text": [
            "제수를 입력하세요 >>> 4\n",
            "피제수를 입력하세요 >>>2\n",
            "2.0\n",
            "프로그램 종료\n"
          ]
        }
      ]
    },
    {
      "cell_type": "code",
      "source": [
        "# 예외 강제 발생\n",
        "\n",
        "if 1 == 1:\n",
        "  raise Exception('예외 강제 발생')"
      ],
      "metadata": {
        "id": "Vvh0TbEDvk6l"
      },
      "execution_count": null,
      "outputs": []
    },
    {
      "cell_type": "code",
      "source": [
        "class Quiz:\n",
        "  answer = ['경기도','강원도','충청남도','충청북도','전라남도','전라북도','경상남도','경상북도','제주도']\n",
        "\n",
        "  @classmethod\n",
        "  def challenge(cls):\n",
        "    do = input('정답은? >>> ')\n",
        "    if do not in cls.answer:\n",
        "      raise Exception('틀렸습니다.')\n",
        "\n",
        "try:\n",
        "  print('우리나라의 9개 모든 도를 맞히는 퀴즈입니다. 하나씩 대답하세요.')\n",
        "  Quiz.challenge()\n",
        "except Exception as e:\n",
        "  print(e)"
      ],
      "metadata": {
        "id": "rXhPouCiyMdP"
      },
      "execution_count": null,
      "outputs": []
    }
  ]
}