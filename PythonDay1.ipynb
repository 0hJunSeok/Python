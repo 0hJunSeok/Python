{
  "nbformat": 4,
  "nbformat_minor": 0,
  "metadata": {
    "colab": {
      "name": "PythonDay1",
      "provenance": [],
      "collapsed_sections": [],
      "authorship_tag": "ABX9TyNobhdkLMXNh0Q4xP1gfT0U",
      "include_colab_link": true
    },
    "kernelspec": {
      "name": "python3",
      "display_name": "Python 3"
    },
    "language_info": {
      "name": "python"
    }
  },
  "cells": [
    {
      "cell_type": "markdown",
      "metadata": {
        "id": "view-in-github",
        "colab_type": "text"
      },
      "source": [
        "<a href=\"https://colab.research.google.com/github/0hJunSeok/Python/blob/main/PythonDay1.ipynb\" target=\"_parent\"><img src=\"https://colab.research.google.com/assets/colab-badge.svg\" alt=\"Open In Colab\"/></a>"
      ]
    },
    {
      "cell_type": "code",
      "execution_count": 16,
      "metadata": {
        "id": "CcDVV6M7dEUT"
      },
      "outputs": [],
      "source": [
        "# 파이썬이란??\n",
        "# 귀도 반 로썸\n",
        "# 1. 인터프리터 언어이다. 한줄한줄 실행한 결과를 바로바로 볼수 있다.\n",
        "# 2. 플랫폼에 독립적이다. 맥 윈도위 리눅스,,, 전부  같은 파이썬 코드를 사용할수 있다.\n",
        "# 3. 객체지향 언어이다. 객체를 기반으로 정보은닉 상속 등등의 개념을 지원한다.\n",
        "# 4. 동적 타이핑 언어이다. 실행 중에 처리할수 있는 작업을 동적 작업이라고 하고 파이썬은 이것을 지원한다.\n",
        "# 5. 개발 속도가 빠르다. 이미 만들어 놓은 다양한 라이브러리를 사용하여 빠르게 새로운 프로그램을 개발할수 있다.\n",
        "\n",
        "\n",
        "# 주석 comment\n",
        "# 프로그램의 소스 코드에 설명을 작성하는 부분을 주석이라고 한다.\n",
        "# DocString ''' 코드 설명 ''' \n"
      ]
    },
    {
      "cell_type": "code",
      "source": [
        "# math 모듈 포함\n",
        "import math\n",
        "\n",
        "# get_area() 함수 정의\n",
        "def get_area(radius):\n",
        "  \"\"\"반지름을 입력받아 원의 넓이를 반환하는 get_area() 함수\"\"\"\n",
        "  area = math.pi * math.pow(radius.2)\n",
        "  return area\n",
        "\n",
        "radius = 1.5\n",
        "# get_area() 함수 호출 결과를 area 변수에 저장\n",
        "area = get_area(radius)\n",
        "print(area)\n",
        "print(get_area.__doc__) # Docstring 확인"
      ],
      "metadata": {
        "id": "NEJ7P37jqrUc"
      },
      "execution_count": null,
      "outputs": []
    },
    {
      "cell_type": "code",
      "source": [
        "# 코드 위에 주석 다릭\n",
        "print('Hello World')  # 코드 오른쪽에 주석 달기"
      ],
      "metadata": {
        "id": "2DgMW18Yx_Zx"
      },
      "execution_count": null,
      "outputs": []
    },
    {
      "cell_type": "code",
      "source": [
        "# 변수...\n",
        "# variable 어떤 데이터를 저장할때 사용하는 메모리 저장소이다. \n",
        "\n",
        "score = 100 \n",
        "\n",
        "print(100)\n",
        "print(score)\n",
        "\n",
        "# 변수명 만드는 규칙\n",
        "\n",
        "# 1 영문 한글 숫자 밑줄로 구성된다. (한글은 사용하지 말자)\n",
        "# 2 특수문자는 사용할수 없다. (@ # $ % ^ & *...)\n",
        "# 3 대문자와 소문자를 구분한다. a = 1  A = 2\n",
        "# 4 변수명의 첫글자에는 숫자가 올수 없다. a1 = 1 (O)  1a = 2 (X)\n",
        "# 5 예약어, 키워드는 변수명으로 사용할수 없다.\n",
        "# * 가급적이면 소문자로 만들자\n",
        "# * 한글 변수명은 가능하지만 사용하지 말자\n",
        "# * 변수명에 의미를 담자. a = 85  mathScore = 85  "
      ],
      "metadata": {
        "id": "IPEBgA2yrhmL"
      },
      "execution_count": null,
      "outputs": []
    },
    {
      "cell_type": "code",
      "source": [
        "name = 'Alice'\n",
        "age = 25\n",
        "address = '''우편번호 12345 \n",
        "서울시 영등포구 여의도동 \n",
        "서울빌딩 501호'''\n",
        "boyfriend = None\n",
        "height = 168.5\n",
        "\n",
        "\n",
        "print(name)\n",
        "print(age)\n",
        "print(address)\n",
        "print(boyfriend)\n",
        "print(height)"
      ],
      "metadata": {
        "id": "09egp-mQtVmV"
      },
      "execution_count": null,
      "outputs": []
    },
    {
      "cell_type": "code",
      "source": [
        "# 기본 자료형\n",
        "\n",
        "a = 3\n",
        "print(a)\n",
        "a = 3.14\n",
        "print(a)\n",
        "a = 'hello'\n",
        "print(a)\n",
        "# 동적 메모리"
      ],
      "metadata": {
        "id": "HhlizfjkzIz8"
      },
      "execution_count": null,
      "outputs": []
    },
    {
      "cell_type": "code",
      "source": [
        "# 정수 int\n",
        "\n",
        "# int(1.9) = 1\n",
        "# int('100') = 100\n",
        "# int(False) = 0"
      ],
      "metadata": {
        "id": "la53EdKE0AR2"
      },
      "execution_count": null,
      "outputs": []
    },
    {
      "cell_type": "code",
      "source": [
        "# 실수 float\n",
        "\n",
        "# float(1) = 1.0\n",
        "# float(True) = 1.0"
      ],
      "metadata": {
        "id": "yfif2S_20h_x"
      },
      "execution_count": null,
      "outputs": []
    },
    {
      "cell_type": "code",
      "source": [
        "# 논리 bool\n",
        "\n",
        "# bool(10) = True\n",
        "# bool(1) = True\n",
        "# bool(0) = False"
      ],
      "metadata": {
        "id": "KhK8CqCT08vp"
      },
      "execution_count": null,
      "outputs": []
    },
    {
      "cell_type": "code",
      "source": [
        "# 문자열 str\n",
        "\n",
        "# str(100) = '100'\n",
        "# str(True) = 'True'\n",
        "# str(3.14) = '3.14'"
      ],
      "metadata": {
        "id": "s-uL7Q-N1SPB"
      },
      "execution_count": null,
      "outputs": []
    },
    {
      "cell_type": "code",
      "source": [
        "# 인덱싱 몇번째부터 한글자\n",
        "\n",
        "s = 'Hello'\n",
        "s[0]\n",
        "\n",
        "# H e l l 0\n",
        "# 0 1 2 3 4  index\n",
        "#-5-4-3-2-1"
      ],
      "metadata": {
        "id": "03BcKNDm1ptj"
      },
      "execution_count": null,
      "outputs": []
    },
    {
      "cell_type": "code",
      "source": [
        "# 슬라이싱 몇번째부터 몇번째 여러글자\n",
        "\n",
        "s = 'Hello'\n",
        "#s[0:2]  # [시작:끝(미만)]\n",
        "#s[0:]  # 끝을 생략하면 끝까지\n",
        "s[:-1]  # 시작을 생략하면 처음부터"
      ],
      "metadata": {
        "id": "yVK2yQ8f3eN4"
      },
      "execution_count": null,
      "outputs": []
    },
    {
      "cell_type": "code",
      "source": [
        "s = '31025'\n",
        "print(s[0])\n",
        "print(s[1:3])\n",
        "print(s[3:])"
      ],
      "metadata": {
        "id": "usyAuc4O9Z18"
      },
      "execution_count": null,
      "outputs": []
    },
    {
      "cell_type": "code",
      "source": [
        "# 다음 수업\n",
        "\n",
        "#List Tuple Dict Set"
      ],
      "metadata": {
        "id": "fIAdwhsK9eJ4"
      },
      "execution_count": 60,
      "outputs": []
    }
  ]
}