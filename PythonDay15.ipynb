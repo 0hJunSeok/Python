{
  "nbformat": 4,
  "nbformat_minor": 0,
  "metadata": {
    "colab": {
      "name": "PythonDay15.ipynb",
      "provenance": [],
      "collapsed_sections": [],
      "authorship_tag": "ABX9TyNwiqTVyKcXOxidqK32OiVw",
      "include_colab_link": true
    },
    "kernelspec": {
      "name": "python3",
      "display_name": "Python 3"
    },
    "language_info": {
      "name": "python"
    }
  },
  "cells": [
    {
      "cell_type": "markdown",
      "metadata": {
        "id": "view-in-github",
        "colab_type": "text"
      },
      "source": [
        "<a href=\"https://colab.research.google.com/github/0hJunSeok/Python/blob/main/PythonDay15.ipynb\" target=\"_parent\"><img src=\"https://colab.research.google.com/assets/colab-badge.svg\" alt=\"Open In Colab\"/></a>"
      ]
    },
    {
      "cell_type": "code",
      "execution_count": null,
      "metadata": {
        "id": "agec9xZnWY8f"
      },
      "outputs": [],
      "source": [
        "# 자료구조 와 알고리즘\n",
        "\n",
        "# 자료구조 : 자료(데이터)를 저장하고 꺼내는 방법\n",
        "# 알고리즘 : 문제를 해결하기 위한 절차\n",
        "\n",
        "# 스택 stack : 쌓는다. 데이터를 쌓으면서 저장한다. 식당 주방의 접시, 프링글스\n",
        "#              LIFO (Last In First Out) 나중에 넣은 데이터를 먼저 꺼낸다.\n",
        "#              이때 데이터를 넣는 것을 push 라고 하고 꺼내는 것을 pop 라고 부른다.\n",
        "#              실제 활용은 컴퓨터에서 프로그램을 수행할때 사용된다. 예를 들면\n",
        "#              함수 A를 호출하면 기존 프로그램 위에 쌓이고 함수 A가 함수 B를 호출하면\n",
        "#              B가 A위에 쌓이게 된다.\n",
        "#              7\n",
        "#         30  30  30\n",
        "#     20  20  20  20  20\n",
        "# 15  15  15  15  15  15  15"
      ]
    },
    {
      "cell_type": "code",
      "source": [
        "stack = []\n",
        "\n",
        "stack.append(15)\n",
        "stack"
      ],
      "metadata": {
        "colab": {
          "base_uri": "https://localhost:8080/"
        },
        "id": "qTi4KibGZ0ls",
        "outputId": "a74eab32-21aa-4170-8844-81da3b1fd2a8"
      },
      "execution_count": 1,
      "outputs": [
        {
          "output_type": "execute_result",
          "data": {
            "text/plain": [
              "[15]"
            ]
          },
          "metadata": {},
          "execution_count": 1
        }
      ]
    },
    {
      "cell_type": "code",
      "source": [
        "stack.append(20)\n",
        "stack"
      ],
      "metadata": {
        "colab": {
          "base_uri": "https://localhost:8080/"
        },
        "id": "8t8fT-SGZzvs",
        "outputId": "7695bcfa-84b6-4277-af35-c36c39be5d33"
      },
      "execution_count": 2,
      "outputs": [
        {
          "output_type": "execute_result",
          "data": {
            "text/plain": [
              "[15, 20]"
            ]
          },
          "metadata": {},
          "execution_count": 2
        }
      ]
    },
    {
      "cell_type": "code",
      "source": [
        "stack.append(30)\n",
        "stack"
      ],
      "metadata": {
        "colab": {
          "base_uri": "https://localhost:8080/"
        },
        "id": "20HkZSoWZ_nA",
        "outputId": "765b1bdb-f469-42d1-996d-8849dc7fa326"
      },
      "execution_count": 3,
      "outputs": [
        {
          "output_type": "execute_result",
          "data": {
            "text/plain": [
              "[15, 20, 30]"
            ]
          },
          "metadata": {},
          "execution_count": 3
        }
      ]
    },
    {
      "cell_type": "code",
      "source": [
        "stack.append(7)\n",
        "stack"
      ],
      "metadata": {
        "colab": {
          "base_uri": "https://localhost:8080/"
        },
        "id": "BYRUZZJPaBTS",
        "outputId": "5401c80b-5a40-434e-fe1f-d80f63fda99b"
      },
      "execution_count": 4,
      "outputs": [
        {
          "output_type": "execute_result",
          "data": {
            "text/plain": [
              "[15, 20, 30, 7]"
            ]
          },
          "metadata": {},
          "execution_count": 4
        }
      ]
    },
    {
      "cell_type": "code",
      "source": [
        "stack.pop()\n",
        "stack"
      ],
      "metadata": {
        "colab": {
          "base_uri": "https://localhost:8080/"
        },
        "id": "FRjPkBagaIAA",
        "outputId": "94a06758-8b29-4e79-87d9-b1a608f229e0"
      },
      "execution_count": 5,
      "outputs": [
        {
          "output_type": "execute_result",
          "data": {
            "text/plain": [
              "[15, 20, 30]"
            ]
          },
          "metadata": {},
          "execution_count": 5
        }
      ]
    },
    {
      "cell_type": "code",
      "source": [
        "stack.pop()\n",
        "stack"
      ],
      "metadata": {
        "colab": {
          "base_uri": "https://localhost:8080/"
        },
        "id": "7etOYkQvaMu4",
        "outputId": "32b26884-cc10-4555-9dcf-51ee94b5acef"
      },
      "execution_count": 6,
      "outputs": [
        {
          "output_type": "execute_result",
          "data": {
            "text/plain": [
              "[15, 20]"
            ]
          },
          "metadata": {},
          "execution_count": 6
        }
      ]
    },
    {
      "cell_type": "code",
      "source": [
        "stack.pop()\n",
        "stack"
      ],
      "metadata": {
        "colab": {
          "base_uri": "https://localhost:8080/"
        },
        "id": "7TLgdFt7aNrZ",
        "outputId": "ef59c479-fb51-4f40-dbc9-db12163be452"
      },
      "execution_count": 7,
      "outputs": [
        {
          "output_type": "execute_result",
          "data": {
            "text/plain": [
              "[15]"
            ]
          },
          "metadata": {},
          "execution_count": 7
        }
      ]
    },
    {
      "cell_type": "code",
      "source": [
        "stack.pop()\n",
        "stack"
      ],
      "metadata": {
        "colab": {
          "base_uri": "https://localhost:8080/"
        },
        "id": "nnBGi9draPFb",
        "outputId": "99fad41f-7583-4ad4-a890-761b7da4d9ab"
      },
      "execution_count": 8,
      "outputs": [
        {
          "output_type": "execute_result",
          "data": {
            "text/plain": [
              "[]"
            ]
          },
          "metadata": {},
          "execution_count": 8
        }
      ]
    },
    {
      "cell_type": "code",
      "source": [
        "# [15, 20, 30, 7]\n",
        "\n",
        "def Stack():          # 함수 선언\n",
        "  stack = []          # 빈 리스트 선언\n",
        "\n",
        "  stack.append(15)    # stack 리스트에 15 넣기\n",
        "  print(stack)\n",
        "  stack.append(20)    # stack 리스트에 20 넣기\n",
        "  print(stack)\n",
        "  stack.append(30)    # stack 리스트에 30 넣기\n",
        "  print(stack)\n",
        "  stack.append(7)     # stack 리스트에  7 넣기\n",
        "\n",
        "  print(stack)        # 전체 리스트 스택 출력\n",
        "\n",
        "  while stack:        # while 반복문으로 데이터가 stack에서 전부 없어질때까지 반복\n",
        "    print('pop value is', stack.pop())  # 스택에서 하나씩 뽑아내기\n",
        "    print(stack)                        # 하나씩 뽑을때마다 나머지 스택 출력\n",
        "\n",
        "Stack()"
      ],
      "metadata": {
        "colab": {
          "base_uri": "https://localhost:8080/"
        },
        "id": "TBuJKe0laqj7",
        "outputId": "ba5ced42-5832-42e8-9162-9386d5ee7911"
      },
      "execution_count": 9,
      "outputs": [
        {
          "output_type": "stream",
          "name": "stdout",
          "text": [
            "[15]\n",
            "[15, 20]\n",
            "[15, 20, 30]\n",
            "[15, 20, 30, 7]\n",
            "pop value is 7\n",
            "[15, 20, 30]\n",
            "pop value is 30\n",
            "[15, 20]\n",
            "pop value is 20\n",
            "[15]\n",
            "pop value is 15\n",
            "[]\n"
          ]
        }
      ]
    },
    {
      "cell_type": "code",
      "source": [
        "# 스택 활용 -> 브라우저\n",
        "\n",
        "stacklist = [] # 브라우저로 방문한 사이트들을 저장할 스택\n",
        "\n",
        "while True: # 무한 반복\n",
        "  site = input('방문할 사이트 주소를 입력하세요(이전 사이트는 back) : ')\n",
        "  if site != 'back':\n",
        "    stacklist.append(site)\n",
        "  else:\n",
        "    stacklist.pop()\n",
        "\n",
        "  if len(stacklist) != 0: # 최소한 한번이라도 방문을 했으면\n",
        "    print('현재 방문 중인 사이트는', stacklist[-1], '입니다')\n",
        "  else:\n",
        "    print('방문 중인 사이트가 없습니다.')"
      ],
      "metadata": {
        "id": "heZSwE0lcd-i"
      },
      "execution_count": null,
      "outputs": []
    },
    {
      "cell_type": "code",
      "source": [
        "# 큐 Queue\n",
        "\n",
        "# 데이터가 입력되면 그 순서대로 쌓이고 먼저 들어온 데이터부터 먼저 나간다.\n",
        "# FIFO (First In First Out), 컴퓨터 안에서 여러개의 프로세스가 수행 중일 때\n",
        "# 새로운 프로세스가 수행되는 경우 가장 먼저 메모리에 올라왔던 프로세스가\n",
        "# 아웃되고 새로운 프로세스를 메모리에 올리게 된다."
      ],
      "metadata": {
        "id": "LU4jjxtKevmV"
      },
      "execution_count": null,
      "outputs": []
    },
    {
      "cell_type": "code",
      "source": [
        "# 15\n",
        "# 20  15\n",
        "# 30  20  15\n",
        "# 7   30  20  15\n",
        "\n",
        "# 7   30  20\n",
        "# 7   30\n",
        "# 7\n",
        "#\n",
        "\n",
        "queuelist = []\n",
        "queuelist.append(15)\n",
        "print(queuelist)\n",
        "queuelist.append(20)\n",
        "print(queuelist)\n",
        "queuelist.append(30)\n",
        "print(queuelist)\n",
        "queuelist.append(7)\n",
        "print(queuelist)\n",
        "\n",
        "while queuelist:\n",
        "  print('Get Value : ', queuelist.pop(0)) # pop는 생략하면 마지막 한개 추출\n",
        "  print(queuelist)                        # 생략 안하면 그 해당 원소를 추출"
      ],
      "metadata": {
        "colab": {
          "base_uri": "https://localhost:8080/"
        },
        "id": "GWgbM0_bftnE",
        "outputId": "1db55704-5d81-404e-b916-f8cc81097260"
      },
      "execution_count": 17,
      "outputs": [
        {
          "output_type": "stream",
          "name": "stdout",
          "text": [
            "[15]\n",
            "[15, 20]\n",
            "[15, 20, 30]\n",
            "[15, 20, 30, 7]\n",
            "Get Value :  15\n",
            "[20, 30, 7]\n",
            "Get Value :  20\n",
            "[30, 7]\n",
            "Get Value :  30\n",
            "[7]\n",
            "Get Value :  7\n",
            "[]\n"
          ]
        }
      ]
    },
    {
      "cell_type": "code",
      "source": [
        "# queue 활용 - 프린터 출력, 식당 줄서기\n",
        "\n",
        "queuelist = [] # 큐 리스트 선언\n",
        "\n",
        "while True:    # 무한 반복 선언\n",
        "  fname = input('출력할 파일을 하나씩 입력하세요(0을 누르면 출력이 즉시 시작됩니다.) : ')\n",
        "  if fname != '0':\n",
        "    queuelist.append(fname)\n",
        "  else:\n",
        "    print('출력을 시작합니다')\n",
        "    no = 1\n",
        "    while queuelist:\n",
        "      print(no,'번째 파일을 출력합니다.', queuelist.pop(0))\n",
        "      no += 1\n",
        "    print('출력을 완료하였습니다.')\n",
        "    break"
      ],
      "metadata": {
        "colab": {
          "base_uri": "https://localhost:8080/"
        },
        "id": "ywT75XGAhowQ",
        "outputId": "6dc434ea-8aae-44c3-b1c1-d426cac0f7d9"
      },
      "execution_count": 27,
      "outputs": [
        {
          "output_type": "stream",
          "name": "stdout",
          "text": [
            "출력할 파일을 하나씩 입력하세요(0을 누르면 출력이 즉시 시작됩니다.) : hwl1\n",
            "출력할 파일을 하나씩 입력하세요(0을 누르면 출력이 즉시 시작됩니다.) : hwl2\n",
            "출력할 파일을 하나씩 입력하세요(0을 누르면 출력이 즉시 시작됩니다.) : hwl3\n",
            "출력할 파일을 하나씩 입력하세요(0을 누르면 출력이 즉시 시작됩니다.) : 0\n",
            "출력을 시작합니다\n",
            "1 번째 파일을 출력합니다. hwl1\n",
            "2 번째 파일을 출력합니다. hwl2\n",
            "3 번째 파일을 출력합니다. hwl3\n",
            "출력을 완료하였습니다.\n"
          ]
        }
      ]
    },
    {
      "cell_type": "code",
      "source": [
        "# palindrome 펠린드롬 여부를 확인하는 함수를 만드세요 (스택과 큐를 사용)\n",
        "\n",
        "# 리스트 2개에 각각 입력된 문자열을 넣는다.\n",
        "# 하나의 리스트에서는 앞에서 한개\n",
        "# 또 하나의 리스트에서는 뒤에서 한개를 각각 추출하여 비교한다.\n",
        "# 같으면 펠린드롬 다른게 판견되면 펠린드롬이 아니다.\n",
        "\n",
        "def palin(s): # 입력받은 문자열을 s로 초기화\n",
        "  queue = []  # 입력받은 문자열 s를 2개의 같은 리스트로 만들기 위해 초기화\n",
        "  stack = []\n",
        "\n",
        "  for x in s: # 입력받은 문자열 s에서 한글자씩 잘라서 두개의 리스트에 각각 저장\n",
        "    queue.append(x)\n",
        "    stack.append(x)\n",
        "\n",
        "  while queue:  # 두개의 리스트에서 각각 앞에서 한개 뒤에서 한개 씩 비교 \n",
        "    if queue.pop(0) != stack.pop(): # 같이 않은 항목을 발견한 순간 False를 반환\n",
        "      return False\n",
        "\n",
        "  return True # 위의 while 반복문을 끝까지 돌아도 다른 항목을 발견하지 못한 경우 True를 반환\n",
        "\n",
        "#palin('eve')  # True\n",
        "palin('eva')  # False"
      ],
      "metadata": {
        "colab": {
          "base_uri": "https://localhost:8080/"
        },
        "id": "bfnspnXDr52F",
        "outputId": "5978a291-ee96-4398-fe88-1dca5778a7f6"
      },
      "execution_count": 31,
      "outputs": [
        {
          "output_type": "execute_result",
          "data": {
            "text/plain": [
              "False"
            ]
          },
          "metadata": {},
          "execution_count": 31
        }
      ]
    },
    {
      "cell_type": "code",
      "source": [
        "# 수식 확인 (괄호 확인)\n",
        "\n",
        "# 입력받은 수식을 한글자씩 분해하여\n",
        "# '(' 여는 괄호면 리스트에 담는다.\n",
        "# ')' 닫는 괄호면 리스트에서 하나 삭제 한다.\n",
        "\n",
        "def check(s): # 함수 선언\n",
        "  stack = []  # 빈 리스트 선언\n",
        "  for x in s: # 입력 받은 수식을 한글자씩 분해\n",
        "    if x == '(':  # 여는 괄호가 나오면\n",
        "      stack.append(x) # 리스트에 추가\n",
        "    elif x == ')':  # 닫는 괄호가 나오면\n",
        "      if len(stack) == 0: # 현재 리스트에 아무것도 없으면 수식이 틀림\n",
        "        print('NO')\n",
        "        return\n",
        "      else:    \n",
        "       stack.pop()  # 리스트에 담겨진 여는 괄호가 있으면 하나 삭제\n",
        "\n",
        "  if len(stack) == 0: # 리스트의 길이가 0이면 문제 없는 수식\n",
        "    print('YES')\n",
        "    return\n",
        "  else: # 괄호가 남은게 하나라도 있으면 수식 오류 확인\n",
        "    print('NO')\n",
        "    return\n",
        "\n",
        "check('(2+1)*3)')  #  -> NO    #(괄호가 하나 남는다.)\n",
        "#check('((2+1)*3)')  # -> YES   #(문제없음)"
      ],
      "metadata": {
        "colab": {
          "base_uri": "https://localhost:8080/"
        },
        "id": "jGD5aPfy28Tn",
        "outputId": "9954eb2a-a6c2-4ad5-c14d-e8279cf77c75"
      },
      "execution_count": 39,
      "outputs": [
        {
          "output_type": "stream",
          "name": "stdout",
          "text": [
            "NO\n"
          ]
        }
      ]
    }
  ]
}