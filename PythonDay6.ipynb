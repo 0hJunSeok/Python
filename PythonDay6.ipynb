{
  "nbformat": 4,
  "nbformat_minor": 0,
  "metadata": {
    "colab": {
      "name": "PythonDay6",
      "provenance": [],
      "authorship_tag": "ABX9TyMbhm6zW1Qhnh/VqFGsQ68N",
      "include_colab_link": true
    },
    "kernelspec": {
      "name": "python3",
      "display_name": "Python 3"
    },
    "language_info": {
      "name": "python"
    }
  },
  "cells": [
    {
      "cell_type": "markdown",
      "metadata": {
        "id": "view-in-github",
        "colab_type": "text"
      },
      "source": [
        "<a href=\"https://colab.research.google.com/github/0hJunSeok/Python/blob/main/PythonDay6.ipynb\" target=\"_parent\"><img src=\"https://colab.research.google.com/assets/colab-badge.svg\" alt=\"Open In Colab\"/></a>"
      ]
    },
    {
      "cell_type": "code",
      "execution_count": null,
      "metadata": {
        "id": "XNDQcLh0bYsW"
      },
      "outputs": [],
      "source": [
        "def address():\n",
        "  str = '우편번호 12345\\n'\n",
        "  str += '서울시 영등포구 여의도동'\n",
        "  return str\n",
        "\n",
        "print(address())"
      ]
    },
    {
      "cell_type": "code",
      "source": [
        "def calculator(*args):  # 가변 매개변수\n",
        "  return sum(args), sum(args)/len(args), max(args), min(args) # 1개의 튜플로 리턴\n",
        "\n",
        "a,b,c,d = calculator(1,2,3,4,5) \n",
        "print(a)\n",
        "print(b)\n",
        "print(c)\n",
        "print(d)"
      ],
      "metadata": {
        "id": "1O7TCfp6fTXP"
      },
      "execution_count": null,
      "outputs": []
    },
    {
      "cell_type": "code",
      "source": [
        "def charge(energy):\n",
        "  if energy < 0:\n",
        "    print('0보다 작은 에너지는 충전할수 없습니다.')\n",
        "    return\n",
        "  print('에너지가 충전되었습니다.')\n",
        "\n",
        "charge(1)"
      ],
      "metadata": {
        "id": "b1ClgSVjgil1"
      },
      "execution_count": null,
      "outputs": []
    },
    {
      "cell_type": "code",
      "source": [
        "# 지역변수 local variable (*****) 와 전역변수 global variabie\n",
        "\n",
        "def f():\n",
        "  a = 10\n",
        "  print(f'f() 내부 : {a}')\n",
        "\n",
        "f()\n",
        "print(a)"
      ],
      "metadata": {
        "id": "FiRoD580hQlH"
      },
      "execution_count": null,
      "outputs": []
    },
    {
      "cell_type": "code",
      "source": [
        "b = 10\n",
        "def f():\n",
        "  print(f'f() 내부 : {b}')\n",
        "\n",
        "f()\n",
        "print(b)"
      ],
      "metadata": {
        "colab": {
          "base_uri": "https://localhost:8080/"
        },
        "id": "6TOyAnkqi5Un",
        "outputId": "0501e5ae-b6d9-4191-a1a0-d1bf113c0999"
      },
      "execution_count": 13,
      "outputs": [
        {
          "output_type": "stream",
          "name": "stdout",
          "text": [
            "f() 내부 : 10\n",
            "10\n"
          ]
        }
      ]
    },
    {
      "cell_type": "code",
      "source": [
        "def vanding_machine(money):\n",
        "  price = 700 # 한잔 가격 700원\n",
        "  cans = money // price  # 3000 // 700  >>> 4\n",
        "  for drink in range(cans + 1):\n",
        "    coin = money - price * drink\n",
        "    print(f'음료수 = {drink}개, 잔돈 = {coin}원') # can 4, coin 200\n",
        "\n",
        "vanding_machine(3000)"
      ],
      "metadata": {
        "id": "F118SumjkBb2"
      },
      "execution_count": null,
      "outputs": []
    },
    {
      "cell_type": "code",
      "source": [
        "def get_average(marks):\n",
        "  sum = 0\n",
        "  for mark in marks:\n",
        "    sum += marks[mark]\n",
        "  avg = sum / len(marks)\n",
        "  return avg\n",
        "  \n",
        "marks = {'국어':90, '영어':80, '수학':85}\n",
        "average = get_average(marks)\n",
        "print(f'평균은 {average}점입니다')"
      ],
      "metadata": {
        "id": "uuIWrgc1sY2b"
      },
      "execution_count": null,
      "outputs": []
    },
    {
      "cell_type": "code",
      "source": [
        "# module 과 import\n",
        "\n",
        "# module = .py  모든 파이썬 파일은 모듈이다."
      ],
      "metadata": {
        "id": "IF3UsXvIwFDK"
      },
      "execution_count": null,
      "outputs": []
    }
  ]
}