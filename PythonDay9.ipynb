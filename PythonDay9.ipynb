{
  "nbformat": 4,
  "nbformat_minor": 0,
  "metadata": {
    "colab": {
      "name": "PythonDay9",
      "provenance": [],
      "collapsed_sections": [],
      "authorship_tag": "ABX9TyPXkdx10FiYc52NElbhVNVk",
      "include_colab_link": true
    },
    "kernelspec": {
      "name": "python3",
      "display_name": "Python 3"
    },
    "language_info": {
      "name": "python"
    }
  },
  "cells": [
    {
      "cell_type": "markdown",
      "metadata": {
        "id": "view-in-github",
        "colab_type": "text"
      },
      "source": [
        "<a href=\"https://colab.research.google.com/github/0hJunSeok/Python/blob/main/PythonDay9.ipynb\" target=\"_parent\"><img src=\"https://colab.research.google.com/assets/colab-badge.svg\" alt=\"Open In Colab\"/></a>"
      ]
    },
    {
      "cell_type": "code",
      "execution_count": null,
      "metadata": {
        "id": "L2GGxJIJhKQh"
      },
      "outputs": [],
      "source": [
        "import requests                      # 웹페이지 연결\n",
        "from bs4 import Beautifulsoup as bs  # 가져온 페이지를 분석하기 용이하게 정제\n",
        "import pandas as pd                  # 데이터 분석 도구"
      ]
    },
    {
      "cell_type": "code",
      "source": [
        "# 예비"
      ],
      "metadata": {
        "id": "O9p1ed9xiXYL"
      },
      "execution_count": null,
      "outputs": []
    },
    {
      "cell_type": "code",
      "source": [
        "# html의 이해\n",
        "\n",
        "# html  +  css  +  js\n",
        "# 흑백TV  컬러TV  스마트TV"
      ],
      "metadata": {
        "id": "CmZ5qtSbiY0k"
      },
      "execution_count": null,
      "outputs": []
    },
    {
      "cell_type": "code",
      "source": [
        "# URL Uniform Resource Locator 인터넷 주소\n",
        "\n",
        "#  https://naver.com/"
      ],
      "metadata": {
        "id": "HiohzEhkljaE"
      },
      "execution_count": null,
      "outputs": []
    },
    {
      "cell_type": "code",
      "source": [
        "import requests                               # 파이썬으로 웹연결\n",
        "\n",
        "url = 'https://www.naver.com/'                # 연결할 인터넷 주소\n",
        "response = requests.get(url)                  # 연결한 주소에서 코드 불러오기\n",
        "print(f'응답 코드 : {response.status_code}')  # 크롤링 성공\n",
        "print(response.text)"
      ],
      "metadata": {
        "id": "q0FgJB1pm-ky"
      },
      "execution_count": null,
      "outputs": []
    },
    {
      "cell_type": "code",
      "source": [
        "import requests\n",
        "\n",
        "url = 'https://search.naver.com/search.naver'\n",
        "param = {'query':'파이썬'}\n",
        "response = requests.get(url, params = param)\n",
        "print(f'응답 코드 : {response.status_code}')\n",
        "print(response.text)"
      ],
      "metadata": {
        "id": "K-LvBU43oOv1"
      },
      "execution_count": null,
      "outputs": []
    },
    {
      "cell_type": "code",
      "source": [
        "# 크롤링 실전 \n",
        "\n",
        "import requests                      # 웹페이지 연결\n",
        "from bs4 import BeautifulSoup as bs  # 가져온 페이지를 분석하기 용이하게 정제\n",
        "import pandas as pd                  # 데이터 분석 도구\n",
        "\n",
        "# 벅스 차트 크롤링\n",
        "html = requests.get('https://music.bugs.co.kr/chart')\n",
        "soup = bs(html.text)\n",
        "print(soup)"
      ],
      "metadata": {
        "id": "zJ9B7c2tpg91"
      },
      "execution_count": null,
      "outputs": []
    },
    {
      "cell_type": "code",
      "source": [
        "len(soup.select('tr')) # 태그를 선택할때는 soup.select()을 사용"
      ],
      "metadata": {
        "colab": {
          "base_uri": "https://localhost:8080/"
        },
        "id": "fFe5Evz4v5Wr",
        "outputId": "d6b941ff-5fad-4926-b436-4e05f5c42fd1"
      },
      "execution_count": 18,
      "outputs": [
        {
          "output_type": "execute_result",
          "data": {
            "text/plain": [
              "104"
            ]
          },
          "metadata": {},
          "execution_count": 18
        }
      ]
    },
    {
      "cell_type": "code",
      "source": [
        "len(soup.select('tbody > tr'))"
      ],
      "metadata": {
        "colab": {
          "base_uri": "https://localhost:8080/"
        },
        "id": "sxvgzVn7wYak",
        "outputId": "c42e0f01-9429-4391-8eb3-6f13259e4ff3"
      },
      "execution_count": 19,
      "outputs": [
        {
          "output_type": "execute_result",
          "data": {
            "text/plain": [
              "103"
            ]
          },
          "metadata": {},
          "execution_count": 19
        }
      ]
    },
    {
      "cell_type": "code",
      "source": [
        "len(soup.select('table.byChart > tbody > tr'))"
      ],
      "metadata": {
        "colab": {
          "base_uri": "https://localhost:8080/"
        },
        "id": "t_zOHPxaw9mk",
        "outputId": "066a0e63-2d91-450c-f9ec-f48c7e52fd7c"
      },
      "execution_count": 20,
      "outputs": [
        {
          "output_type": "execute_result",
          "data": {
            "text/plain": [
              "100"
            ]
          },
          "metadata": {},
          "execution_count": 20
        }
      ]
    },
    {
      "cell_type": "code",
      "source": [
        "songs = soup.select('table.byChart > tbody > tr')\n",
        "len(songs[0].select('p > a'))\n"
      ],
      "metadata": {
        "colab": {
          "base_uri": "https://localhost:8080/"
        },
        "id": "0kM54ivSxudu",
        "outputId": "6895ad3d-d9b6-47d2-e5cf-faac7ab0c2ae"
      },
      "execution_count": 26,
      "outputs": [
        {
          "output_type": "execute_result",
          "data": {
            "text/plain": [
              "2"
            ]
          },
          "metadata": {},
          "execution_count": 26
        }
      ]
    },
    {
      "cell_type": "code",
      "source": [
        "songs[0].select('p > a')"
      ],
      "metadata": {
        "colab": {
          "base_uri": "https://localhost:8080/"
        },
        "id": "ebPYJ7wtzmDS",
        "outputId": "940f0b87-d10d-40bf-fd6f-d878e2096121"
      },
      "execution_count": 27,
      "outputs": [
        {
          "output_type": "execute_result",
          "data": {
            "text/plain": [
              "[<a adultcheckval=\"1\" aria-label=\"새창\" href=\"javascript:;\" onclick=\"bugs.wiselog.area('list_tr_09_chart');bugs.music.listen('32530582',true);\n",
              " \" title=\"That That (prod. &amp; feat. SUGA of BTS)\">That That (prod. &amp; feat. SUGA of BTS)</a>,\n",
              " <a href=\"https://music.bugs.co.kr/artist/3572?wl_ref=list_tr_10_chart\" onclick=\"\n",
              " \" title=\"싸이 (PSY)\">싸이 (PSY)</a>]"
            ]
          },
          "metadata": {},
          "execution_count": 27
        }
      ]
    },
    {
      "cell_type": "code",
      "source": [
        "songs[0].select('p.artist > a')"
      ],
      "metadata": {
        "colab": {
          "base_uri": "https://localhost:8080/"
        },
        "id": "G3sssAwhyDW5",
        "outputId": "e07ebe19-2be2-4de9-b979-5f6b54b94ae9"
      },
      "execution_count": 28,
      "outputs": [
        {
          "output_type": "execute_result",
          "data": {
            "text/plain": [
              "[<a href=\"https://music.bugs.co.kr/artist/3572?wl_ref=list_tr_10_chart\" onclick=\"\n",
              " \" title=\"싸이 (PSY)\">싸이 (PSY)</a>]"
            ]
          },
          "metadata": {},
          "execution_count": 28
        }
      ]
    },
    {
      "cell_type": "code",
      "source": [
        "songs[0].select('p.artist > a')[0].text"
      ],
      "metadata": {
        "colab": {
          "base_uri": "https://localhost:8080/",
          "height": 35
        },
        "id": "i85j2EOr0P9j",
        "outputId": "bebbbe23-5aa1-4613-c676-ef9e9e6be040"
      },
      "execution_count": 29,
      "outputs": [
        {
          "output_type": "execute_result",
          "data": {
            "text/plain": [
              "'싸이 (PSY)'"
            ],
            "application/vnd.google.colaboratory.intrinsic+json": {
              "type": "string"
            }
          },
          "metadata": {},
          "execution_count": 29
        }
      ]
    },
    {
      "cell_type": "code",
      "source": [
        "songs[0].select('p.title > a')"
      ],
      "metadata": {
        "colab": {
          "base_uri": "https://localhost:8080/"
        },
        "id": "Eqtah3YI0mGK",
        "outputId": "2adfa72d-220e-40b6-ccfb-c33511251e81"
      },
      "execution_count": 30,
      "outputs": [
        {
          "output_type": "execute_result",
          "data": {
            "text/plain": [
              "[<a adultcheckval=\"1\" aria-label=\"새창\" href=\"javascript:;\" onclick=\"bugs.wiselog.area('list_tr_09_chart');bugs.music.listen('32530582',true);\n",
              " \" title=\"That That (prod. &amp; feat. SUGA of BTS)\">That That (prod. &amp; feat. SUGA of BTS)</a>]"
            ]
          },
          "metadata": {},
          "execution_count": 30
        }
      ]
    },
    {
      "cell_type": "code",
      "source": [
        "songs[0].select('p.title > a')[0].text"
      ],
      "metadata": {
        "colab": {
          "base_uri": "https://localhost:8080/",
          "height": 35
        },
        "id": "_Fgvb9VW0rfl",
        "outputId": "dc81267a-e2a2-4a97-bd25-0de458c5d092"
      },
      "execution_count": 31,
      "outputs": [
        {
          "output_type": "execute_result",
          "data": {
            "text/plain": [
              "'That That (prod. & feat. SUGA of BTS)'"
            ],
            "application/vnd.google.colaboratory.intrinsic+json": {
              "type": "string"
            }
          },
          "metadata": {},
          "execution_count": 31
        }
      ]
    },
    {
      "cell_type": "code",
      "source": [
        "song_data = []\n",
        "rank = 1\n",
        "\n",
        "songs = soup.select('table.byChart > tbody > tr')\n",
        "\n",
        "for song in songs:\n",
        "  title = song.select('p.title > a')[0].text\n",
        "  singer = song.select('p.artist > a')[0].text\n",
        "  song_data.append(['Bugs', rank, title, singer])\n",
        "  rank += 1\n",
        "\n",
        "song_data"
      ],
      "metadata": {
        "id": "S5pMj5uh0440"
      },
      "execution_count": null,
      "outputs": []
    },
    {
      "cell_type": "code",
      "source": [
        "# 데이터 프레임 만들기\n",
        "df = pd.DataFrame(song_data, columns = ['차트명','순위','타이틀','가수'])\n",
        "df"
      ],
      "metadata": {
        "colab": {
          "base_uri": "https://localhost:8080/",
          "height": 424
        },
        "id": "N9-Hhuue3pCL",
        "outputId": "d4b72a74-929a-484b-92ff-ea0930637df8"
      },
      "execution_count": 33,
      "outputs": [
        {
          "output_type": "execute_result",
          "data": {
            "text/plain": [
              "     차트명   순위                                    타이틀                  가수\n",
              "0   Bugs    1  That That (prod. & feat. SUGA of BTS)            싸이 (PSY)\n",
              "1   Bugs    2                   봄여름가을겨울 (Still Life)        BIGBANG (빅뱅)\n",
              "2   Bugs    3                              LOVE DIVE           IVE (아이브)\n",
              "3   Bugs    4                            눈 떠보니 이별이더라       빅마마(Big Mama)\n",
              "4   Bugs    5                                    꽃 길        BIGBANG (빅뱅)\n",
              "..   ...  ...                                    ...                 ...\n",
              "95  Bugs   96                      버퍼링 (Glitch Mode)           NCT DREAM\n",
              "96  Bugs   97                  Happier (feat. Crush)            싸이 (PSY)\n",
              "97  Bugs   98                             Blue Flame  LE SSERAFIM (르세라핌)\n",
              "98  Bugs   99                    GANJI (feat. Jessi)            싸이 (PSY)\n",
              "99  Bugs  100                    Leave The Door Open  Bruno Mars(브루노 마스)\n",
              "\n",
              "[100 rows x 4 columns]"
            ],
            "text/html": [
              "\n",
              "  <div id=\"df-a6ca0359-0786-43fb-9ed4-c31514dedba4\">\n",
              "    <div class=\"colab-df-container\">\n",
              "      <div>\n",
              "<style scoped>\n",
              "    .dataframe tbody tr th:only-of-type {\n",
              "        vertical-align: middle;\n",
              "    }\n",
              "\n",
              "    .dataframe tbody tr th {\n",
              "        vertical-align: top;\n",
              "    }\n",
              "\n",
              "    .dataframe thead th {\n",
              "        text-align: right;\n",
              "    }\n",
              "</style>\n",
              "<table border=\"1\" class=\"dataframe\">\n",
              "  <thead>\n",
              "    <tr style=\"text-align: right;\">\n",
              "      <th></th>\n",
              "      <th>차트명</th>\n",
              "      <th>순위</th>\n",
              "      <th>타이틀</th>\n",
              "      <th>가수</th>\n",
              "    </tr>\n",
              "  </thead>\n",
              "  <tbody>\n",
              "    <tr>\n",
              "      <th>0</th>\n",
              "      <td>Bugs</td>\n",
              "      <td>1</td>\n",
              "      <td>That That (prod. &amp; feat. SUGA of BTS)</td>\n",
              "      <td>싸이 (PSY)</td>\n",
              "    </tr>\n",
              "    <tr>\n",
              "      <th>1</th>\n",
              "      <td>Bugs</td>\n",
              "      <td>2</td>\n",
              "      <td>봄여름가을겨울 (Still Life)</td>\n",
              "      <td>BIGBANG (빅뱅)</td>\n",
              "    </tr>\n",
              "    <tr>\n",
              "      <th>2</th>\n",
              "      <td>Bugs</td>\n",
              "      <td>3</td>\n",
              "      <td>LOVE DIVE</td>\n",
              "      <td>IVE (아이브)</td>\n",
              "    </tr>\n",
              "    <tr>\n",
              "      <th>3</th>\n",
              "      <td>Bugs</td>\n",
              "      <td>4</td>\n",
              "      <td>눈 떠보니 이별이더라</td>\n",
              "      <td>빅마마(Big Mama)</td>\n",
              "    </tr>\n",
              "    <tr>\n",
              "      <th>4</th>\n",
              "      <td>Bugs</td>\n",
              "      <td>5</td>\n",
              "      <td>꽃 길</td>\n",
              "      <td>BIGBANG (빅뱅)</td>\n",
              "    </tr>\n",
              "    <tr>\n",
              "      <th>...</th>\n",
              "      <td>...</td>\n",
              "      <td>...</td>\n",
              "      <td>...</td>\n",
              "      <td>...</td>\n",
              "    </tr>\n",
              "    <tr>\n",
              "      <th>95</th>\n",
              "      <td>Bugs</td>\n",
              "      <td>96</td>\n",
              "      <td>버퍼링 (Glitch Mode)</td>\n",
              "      <td>NCT DREAM</td>\n",
              "    </tr>\n",
              "    <tr>\n",
              "      <th>96</th>\n",
              "      <td>Bugs</td>\n",
              "      <td>97</td>\n",
              "      <td>Happier (feat. Crush)</td>\n",
              "      <td>싸이 (PSY)</td>\n",
              "    </tr>\n",
              "    <tr>\n",
              "      <th>97</th>\n",
              "      <td>Bugs</td>\n",
              "      <td>98</td>\n",
              "      <td>Blue Flame</td>\n",
              "      <td>LE SSERAFIM (르세라핌)</td>\n",
              "    </tr>\n",
              "    <tr>\n",
              "      <th>98</th>\n",
              "      <td>Bugs</td>\n",
              "      <td>99</td>\n",
              "      <td>GANJI (feat. Jessi)</td>\n",
              "      <td>싸이 (PSY)</td>\n",
              "    </tr>\n",
              "    <tr>\n",
              "      <th>99</th>\n",
              "      <td>Bugs</td>\n",
              "      <td>100</td>\n",
              "      <td>Leave The Door Open</td>\n",
              "      <td>Bruno Mars(브루노 마스)</td>\n",
              "    </tr>\n",
              "  </tbody>\n",
              "</table>\n",
              "<p>100 rows × 4 columns</p>\n",
              "</div>\n",
              "      <button class=\"colab-df-convert\" onclick=\"convertToInteractive('df-a6ca0359-0786-43fb-9ed4-c31514dedba4')\"\n",
              "              title=\"Convert this dataframe to an interactive table.\"\n",
              "              style=\"display:none;\">\n",
              "        \n",
              "  <svg xmlns=\"http://www.w3.org/2000/svg\" height=\"24px\"viewBox=\"0 0 24 24\"\n",
              "       width=\"24px\">\n",
              "    <path d=\"M0 0h24v24H0V0z\" fill=\"none\"/>\n",
              "    <path d=\"M18.56 5.44l.94 2.06.94-2.06 2.06-.94-2.06-.94-.94-2.06-.94 2.06-2.06.94zm-11 1L8.5 8.5l.94-2.06 2.06-.94-2.06-.94L8.5 2.5l-.94 2.06-2.06.94zm10 10l.94 2.06.94-2.06 2.06-.94-2.06-.94-.94-2.06-.94 2.06-2.06.94z\"/><path d=\"M17.41 7.96l-1.37-1.37c-.4-.4-.92-.59-1.43-.59-.52 0-1.04.2-1.43.59L10.3 9.45l-7.72 7.72c-.78.78-.78 2.05 0 2.83L4 21.41c.39.39.9.59 1.41.59.51 0 1.02-.2 1.41-.59l7.78-7.78 2.81-2.81c.8-.78.8-2.07 0-2.86zM5.41 20L4 18.59l7.72-7.72 1.47 1.35L5.41 20z\"/>\n",
              "  </svg>\n",
              "      </button>\n",
              "      \n",
              "  <style>\n",
              "    .colab-df-container {\n",
              "      display:flex;\n",
              "      flex-wrap:wrap;\n",
              "      gap: 12px;\n",
              "    }\n",
              "\n",
              "    .colab-df-convert {\n",
              "      background-color: #E8F0FE;\n",
              "      border: none;\n",
              "      border-radius: 50%;\n",
              "      cursor: pointer;\n",
              "      display: none;\n",
              "      fill: #1967D2;\n",
              "      height: 32px;\n",
              "      padding: 0 0 0 0;\n",
              "      width: 32px;\n",
              "    }\n",
              "\n",
              "    .colab-df-convert:hover {\n",
              "      background-color: #E2EBFA;\n",
              "      box-shadow: 0px 1px 2px rgba(60, 64, 67, 0.3), 0px 1px 3px 1px rgba(60, 64, 67, 0.15);\n",
              "      fill: #174EA6;\n",
              "    }\n",
              "\n",
              "    [theme=dark] .colab-df-convert {\n",
              "      background-color: #3B4455;\n",
              "      fill: #D2E3FC;\n",
              "    }\n",
              "\n",
              "    [theme=dark] .colab-df-convert:hover {\n",
              "      background-color: #434B5C;\n",
              "      box-shadow: 0px 1px 3px 1px rgba(0, 0, 0, 0.15);\n",
              "      filter: drop-shadow(0px 1px 2px rgba(0, 0, 0, 0.3));\n",
              "      fill: #FFFFFF;\n",
              "    }\n",
              "  </style>\n",
              "\n",
              "      <script>\n",
              "        const buttonEl =\n",
              "          document.querySelector('#df-a6ca0359-0786-43fb-9ed4-c31514dedba4 button.colab-df-convert');\n",
              "        buttonEl.style.display =\n",
              "          google.colab.kernel.accessAllowed ? 'block' : 'none';\n",
              "\n",
              "        async function convertToInteractive(key) {\n",
              "          const element = document.querySelector('#df-a6ca0359-0786-43fb-9ed4-c31514dedba4');\n",
              "          const dataTable =\n",
              "            await google.colab.kernel.invokeFunction('convertToInteractive',\n",
              "                                                     [key], {});\n",
              "          if (!dataTable) return;\n",
              "\n",
              "          const docLinkHtml = 'Like what you see? Visit the ' +\n",
              "            '<a target=\"_blank\" href=https://colab.research.google.com/notebooks/data_table.ipynb>data table notebook</a>'\n",
              "            + ' to learn more about interactive tables.';\n",
              "          element.innerHTML = '';\n",
              "          dataTable['output_type'] = 'display_data';\n",
              "          await google.colab.output.renderOutput(dataTable, element);\n",
              "          const docLink = document.createElement('div');\n",
              "          docLink.innerHTML = docLinkHtml;\n",
              "          element.appendChild(docLink);\n",
              "        }\n",
              "      </script>\n",
              "    </div>\n",
              "  </div>\n",
              "  "
            ]
          },
          "metadata": {},
          "execution_count": 33
        }
      ]
    },
    {
      "cell_type": "code",
      "source": [
        "df.to_excel('bugs.xlsx', index=False)"
      ],
      "metadata": {
        "id": "FJC-q0NE4VCv"
      },
      "execution_count": 34,
      "outputs": []
    },
    {
      "cell_type": "code",
      "source": [
        "# 막아둔 사이트 뚫기\n",
        "!pip install selenium\n",
        "!apt-get update\n",
        "!apt install chromium-chromedriver\n",
        "!cp /usr/lib/chromium-browser/chromedriver/usr/bin\n",
        "\n",
        "from selenium import webdriver\n",
        "\n",
        "options =webdriver.ChromeOptions()\n",
        "options.add_argument('--headless')\n",
        "options.add_argument('--no-sandbox')\n",
        "options.add_argument('--disable-dev-shm-usage')\n",
        "driver = webdriver.Chrome('chromedriver', options=options)\n"
      ],
      "metadata": {
        "colab": {
          "base_uri": "https://localhost:8080/",
          "height": 1000
        },
        "id": "yxpaXAoM8jut",
        "outputId": "8ef3bd39-dfbb-4e52-aafb-cd47b0ed0ebf"
      },
      "execution_count": 35,
      "outputs": [
        {
          "output_type": "stream",
          "name": "stdout",
          "text": [
            "Collecting selenium\n",
            "  Downloading selenium-4.1.3-py3-none-any.whl (968 kB)\n",
            "\u001b[?25l\r\u001b[K     |▍                               | 10 kB 25.5 MB/s eta 0:00:01\r\u001b[K     |▊                               | 20 kB 27.0 MB/s eta 0:00:01\r\u001b[K     |█                               | 30 kB 26.9 MB/s eta 0:00:01\r\u001b[K     |█▍                              | 40 kB 10.2 MB/s eta 0:00:01\r\u001b[K     |█▊                              | 51 kB 9.7 MB/s eta 0:00:01\r\u001b[K     |██                              | 61 kB 11.2 MB/s eta 0:00:01\r\u001b[K     |██▍                             | 71 kB 10.4 MB/s eta 0:00:01\r\u001b[K     |██▊                             | 81 kB 10.6 MB/s eta 0:00:01\r\u001b[K     |███                             | 92 kB 11.6 MB/s eta 0:00:01\r\u001b[K     |███▍                            | 102 kB 9.7 MB/s eta 0:00:01\r\u001b[K     |███▊                            | 112 kB 9.7 MB/s eta 0:00:01\r\u001b[K     |████                            | 122 kB 9.7 MB/s eta 0:00:01\r\u001b[K     |████▍                           | 133 kB 9.7 MB/s eta 0:00:01\r\u001b[K     |████▊                           | 143 kB 9.7 MB/s eta 0:00:01\r\u001b[K     |█████                           | 153 kB 9.7 MB/s eta 0:00:01\r\u001b[K     |█████▍                          | 163 kB 9.7 MB/s eta 0:00:01\r\u001b[K     |█████▊                          | 174 kB 9.7 MB/s eta 0:00:01\r\u001b[K     |██████                          | 184 kB 9.7 MB/s eta 0:00:01\r\u001b[K     |██████▍                         | 194 kB 9.7 MB/s eta 0:00:01\r\u001b[K     |██████▊                         | 204 kB 9.7 MB/s eta 0:00:01\r\u001b[K     |███████                         | 215 kB 9.7 MB/s eta 0:00:01\r\u001b[K     |███████▍                        | 225 kB 9.7 MB/s eta 0:00:01\r\u001b[K     |███████▉                        | 235 kB 9.7 MB/s eta 0:00:01\r\u001b[K     |████████▏                       | 245 kB 9.7 MB/s eta 0:00:01\r\u001b[K     |████████▌                       | 256 kB 9.7 MB/s eta 0:00:01\r\u001b[K     |████████▉                       | 266 kB 9.7 MB/s eta 0:00:01\r\u001b[K     |█████████▏                      | 276 kB 9.7 MB/s eta 0:00:01\r\u001b[K     |█████████▌                      | 286 kB 9.7 MB/s eta 0:00:01\r\u001b[K     |█████████▉                      | 296 kB 9.7 MB/s eta 0:00:01\r\u001b[K     |██████████▏                     | 307 kB 9.7 MB/s eta 0:00:01\r\u001b[K     |██████████▌                     | 317 kB 9.7 MB/s eta 0:00:01\r\u001b[K     |██████████▉                     | 327 kB 9.7 MB/s eta 0:00:01\r\u001b[K     |███████████▏                    | 337 kB 9.7 MB/s eta 0:00:01\r\u001b[K     |███████████▌                    | 348 kB 9.7 MB/s eta 0:00:01\r\u001b[K     |███████████▉                    | 358 kB 9.7 MB/s eta 0:00:01\r\u001b[K     |████████████▏                   | 368 kB 9.7 MB/s eta 0:00:01\r\u001b[K     |████████████▌                   | 378 kB 9.7 MB/s eta 0:00:01\r\u001b[K     |████████████▉                   | 389 kB 9.7 MB/s eta 0:00:01\r\u001b[K     |█████████████▏                  | 399 kB 9.7 MB/s eta 0:00:01\r\u001b[K     |█████████████▌                  | 409 kB 9.7 MB/s eta 0:00:01\r\u001b[K     |█████████████▉                  | 419 kB 9.7 MB/s eta 0:00:01\r\u001b[K     |██████████████▏                 | 430 kB 9.7 MB/s eta 0:00:01\r\u001b[K     |██████████████▌                 | 440 kB 9.7 MB/s eta 0:00:01\r\u001b[K     |██████████████▉                 | 450 kB 9.7 MB/s eta 0:00:01\r\u001b[K     |███████████████▏                | 460 kB 9.7 MB/s eta 0:00:01\r\u001b[K     |███████████████▋                | 471 kB 9.7 MB/s eta 0:00:01\r\u001b[K     |████████████████                | 481 kB 9.7 MB/s eta 0:00:01\r\u001b[K     |████████████████▎               | 491 kB 9.7 MB/s eta 0:00:01\r\u001b[K     |████████████████▋               | 501 kB 9.7 MB/s eta 0:00:01\r\u001b[K     |█████████████████               | 512 kB 9.7 MB/s eta 0:00:01\r\u001b[K     |█████████████████▎              | 522 kB 9.7 MB/s eta 0:00:01\r\u001b[K     |█████████████████▋              | 532 kB 9.7 MB/s eta 0:00:01\r\u001b[K     |██████████████████              | 542 kB 9.7 MB/s eta 0:00:01\r\u001b[K     |██████████████████▎             | 552 kB 9.7 MB/s eta 0:00:01\r\u001b[K     |██████████████████▋             | 563 kB 9.7 MB/s eta 0:00:01\r\u001b[K     |███████████████████             | 573 kB 9.7 MB/s eta 0:00:01\r\u001b[K     |███████████████████▎            | 583 kB 9.7 MB/s eta 0:00:01\r\u001b[K     |███████████████████▋            | 593 kB 9.7 MB/s eta 0:00:01\r\u001b[K     |████████████████████            | 604 kB 9.7 MB/s eta 0:00:01\r\u001b[K     |████████████████████▎           | 614 kB 9.7 MB/s eta 0:00:01\r\u001b[K     |████████████████████▋           | 624 kB 9.7 MB/s eta 0:00:01\r\u001b[K     |█████████████████████           | 634 kB 9.7 MB/s eta 0:00:01\r\u001b[K     |█████████████████████▎          | 645 kB 9.7 MB/s eta 0:00:01\r\u001b[K     |█████████████████████▋          | 655 kB 9.7 MB/s eta 0:00:01\r\u001b[K     |██████████████████████          | 665 kB 9.7 MB/s eta 0:00:01\r\u001b[K     |██████████████████████▎         | 675 kB 9.7 MB/s eta 0:00:01\r\u001b[K     |██████████████████████▋         | 686 kB 9.7 MB/s eta 0:00:01\r\u001b[K     |███████████████████████         | 696 kB 9.7 MB/s eta 0:00:01\r\u001b[K     |███████████████████████▍        | 706 kB 9.7 MB/s eta 0:00:01\r\u001b[K     |███████████████████████▊        | 716 kB 9.7 MB/s eta 0:00:01\r\u001b[K     |████████████████████████        | 727 kB 9.7 MB/s eta 0:00:01\r\u001b[K     |████████████████████████▍       | 737 kB 9.7 MB/s eta 0:00:01\r\u001b[K     |████████████████████████▊       | 747 kB 9.7 MB/s eta 0:00:01\r\u001b[K     |█████████████████████████       | 757 kB 9.7 MB/s eta 0:00:01\r\u001b[K     |█████████████████████████▍      | 768 kB 9.7 MB/s eta 0:00:01\r\u001b[K     |█████████████████████████▊      | 778 kB 9.7 MB/s eta 0:00:01\r\u001b[K     |██████████████████████████      | 788 kB 9.7 MB/s eta 0:00:01\r\u001b[K     |██████████████████████████▍     | 798 kB 9.7 MB/s eta 0:00:01\r\u001b[K     |██████████████████████████▊     | 808 kB 9.7 MB/s eta 0:00:01\r\u001b[K     |███████████████████████████     | 819 kB 9.7 MB/s eta 0:00:01\r\u001b[K     |███████████████████████████▍    | 829 kB 9.7 MB/s eta 0:00:01\r\u001b[K     |███████████████████████████▊    | 839 kB 9.7 MB/s eta 0:00:01\r\u001b[K     |████████████████████████████    | 849 kB 9.7 MB/s eta 0:00:01\r\u001b[K     |████████████████████████████▍   | 860 kB 9.7 MB/s eta 0:00:01\r\u001b[K     |████████████████████████████▊   | 870 kB 9.7 MB/s eta 0:00:01\r\u001b[K     |█████████████████████████████   | 880 kB 9.7 MB/s eta 0:00:01\r\u001b[K     |█████████████████████████████▍  | 890 kB 9.7 MB/s eta 0:00:01\r\u001b[K     |█████████████████████████████▊  | 901 kB 9.7 MB/s eta 0:00:01\r\u001b[K     |██████████████████████████████  | 911 kB 9.7 MB/s eta 0:00:01\r\u001b[K     |██████████████████████████████▍ | 921 kB 9.7 MB/s eta 0:00:01\r\u001b[K     |██████████████████████████████▉ | 931 kB 9.7 MB/s eta 0:00:01\r\u001b[K     |███████████████████████████████▏| 942 kB 9.7 MB/s eta 0:00:01\r\u001b[K     |███████████████████████████████▌| 952 kB 9.7 MB/s eta 0:00:01\r\u001b[K     |███████████████████████████████▉| 962 kB 9.7 MB/s eta 0:00:01\r\u001b[K     |████████████████████████████████| 968 kB 9.7 MB/s \n",
            "\u001b[?25hCollecting trio-websocket~=0.9\n",
            "  Downloading trio_websocket-0.9.2-py3-none-any.whl (16 kB)\n",
            "Collecting trio~=0.17\n",
            "  Downloading trio-0.20.0-py3-none-any.whl (359 kB)\n",
            "\u001b[K     |████████████████████████████████| 359 kB 53.1 MB/s \n",
            "\u001b[?25hCollecting urllib3[secure,socks]~=1.26\n",
            "  Downloading urllib3-1.26.9-py2.py3-none-any.whl (138 kB)\n",
            "\u001b[K     |████████████████████████████████| 138 kB 53.3 MB/s \n",
            "\u001b[?25hRequirement already satisfied: idna in /usr/local/lib/python3.7/dist-packages (from trio~=0.17->selenium) (2.10)\n",
            "Collecting async-generator>=1.9\n",
            "  Downloading async_generator-1.10-py3-none-any.whl (18 kB)\n",
            "Collecting sniffio\n",
            "  Downloading sniffio-1.2.0-py3-none-any.whl (10 kB)\n",
            "Collecting outcome\n",
            "  Downloading outcome-1.1.0-py2.py3-none-any.whl (9.7 kB)\n",
            "Requirement already satisfied: sortedcontainers in /usr/local/lib/python3.7/dist-packages (from trio~=0.17->selenium) (2.4.0)\n",
            "Requirement already satisfied: attrs>=19.2.0 in /usr/local/lib/python3.7/dist-packages (from trio~=0.17->selenium) (21.4.0)\n",
            "Collecting wsproto>=0.14\n",
            "  Downloading wsproto-1.1.0-py3-none-any.whl (24 kB)\n",
            "Requirement already satisfied: certifi in /usr/local/lib/python3.7/dist-packages (from urllib3[secure,socks]~=1.26->selenium) (2021.10.8)\n",
            "Collecting pyOpenSSL>=0.14\n",
            "  Downloading pyOpenSSL-22.0.0-py2.py3-none-any.whl (55 kB)\n",
            "\u001b[K     |████████████████████████████████| 55 kB 3.4 MB/s \n",
            "\u001b[?25hCollecting cryptography>=1.3.4\n",
            "  Downloading cryptography-37.0.2-cp36-abi3-manylinux_2_24_x86_64.whl (4.0 MB)\n",
            "\u001b[K     |████████████████████████████████| 4.0 MB 45.9 MB/s \n",
            "\u001b[?25hRequirement already satisfied: PySocks!=1.5.7,<2.0,>=1.5.6 in /usr/local/lib/python3.7/dist-packages (from urllib3[secure,socks]~=1.26->selenium) (1.7.1)\n",
            "Requirement already satisfied: cffi>=1.12 in /usr/local/lib/python3.7/dist-packages (from cryptography>=1.3.4->urllib3[secure,socks]~=1.26->selenium) (1.15.0)\n",
            "Requirement already satisfied: pycparser in /usr/local/lib/python3.7/dist-packages (from cffi>=1.12->cryptography>=1.3.4->urllib3[secure,socks]~=1.26->selenium) (2.21)\n",
            "Collecting h11<1,>=0.9.0\n",
            "  Downloading h11-0.13.0-py3-none-any.whl (58 kB)\n",
            "\u001b[K     |████████████████████████████████| 58 kB 4.8 MB/s \n",
            "\u001b[?25hRequirement already satisfied: typing-extensions in /usr/local/lib/python3.7/dist-packages (from h11<1,>=0.9.0->wsproto>=0.14->trio-websocket~=0.9->selenium) (4.2.0)\n",
            "Installing collected packages: sniffio, outcome, h11, cryptography, async-generator, wsproto, urllib3, trio, pyOpenSSL, trio-websocket, selenium\n",
            "  Attempting uninstall: urllib3\n",
            "    Found existing installation: urllib3 1.24.3\n",
            "    Uninstalling urllib3-1.24.3:\n",
            "      Successfully uninstalled urllib3-1.24.3\n",
            "\u001b[31mERROR: pip's dependency resolver does not currently take into account all the packages that are installed. This behaviour is the source of the following dependency conflicts.\n",
            "requests 2.23.0 requires urllib3!=1.25.0,!=1.25.1,<1.26,>=1.21.1, but you have urllib3 1.26.9 which is incompatible.\n",
            "datascience 0.10.6 requires folium==0.2.1, but you have folium 0.8.3 which is incompatible.\u001b[0m\n",
            "Successfully installed async-generator-1.10 cryptography-37.0.2 h11-0.13.0 outcome-1.1.0 pyOpenSSL-22.0.0 selenium-4.1.3 sniffio-1.2.0 trio-0.20.0 trio-websocket-0.9.2 urllib3-1.26.9 wsproto-1.1.0\n"
          ]
        },
        {
          "output_type": "display_data",
          "data": {
            "application/vnd.colab-display-data+json": {
              "pip_warning": {
                "packages": [
                  "urllib3"
                ]
              }
            }
          },
          "metadata": {}
        },
        {
          "output_type": "stream",
          "name": "stdout",
          "text": [
            "\r0% [Working]\r            \rHit:1 https://developer.download.nvidia.com/compute/cuda/repos/ubuntu1804/x86_64  InRelease\n",
            "\r0% [Connecting to archive.ubuntu.com (91.189.91.38)] [Connecting to security.ub\r                                                                               \rGet:2 https://cloud.r-project.org/bin/linux/ubuntu bionic-cran40/ InRelease [3,626 B]\n",
            "\r0% [Waiting for headers] [Waiting for headers] [Connecting to ppa.launchpad.net\r0% [1 InRelease gpgv 1,575 B] [Waiting for headers] [Waiting for headers] [Conn\r                                                                               \rIgn:3 https://developer.download.nvidia.com/compute/machine-learning/repos/ubuntu1804/x86_64  InRelease\n",
            "\r0% [1 InRelease gpgv 1,575 B] [Waiting for headers] [Waiting for headers] [Conn\r                                                                               \rHit:4 https://developer.download.nvidia.com/compute/machine-learning/repos/ubuntu1804/x86_64  Release\n",
            "\r0% [1 InRelease gpgv 1,575 B] [Waiting for headers] [Waiting for headers] [Conn\r                                                                               \rHit:5 http://archive.ubuntu.com/ubuntu bionic InRelease\n",
            "Get:6 http://security.ubuntu.com/ubuntu bionic-security InRelease [88.7 kB]\n",
            "Get:7 http://archive.ubuntu.com/ubuntu bionic-updates InRelease [88.7 kB]\n",
            "Get:8 http://archive.ubuntu.com/ubuntu bionic-backports InRelease [74.6 kB]\n",
            "Get:9 http://ppa.launchpad.net/c2d4u.team/c2d4u4.0+/ubuntu bionic InRelease [15.9 kB]\n",
            "Get:10 https://cloud.r-project.org/bin/linux/ubuntu bionic-cran40/ Packages [84.8 kB]\n",
            "Hit:11 http://ppa.launchpad.net/cran/libgit2/ubuntu bionic InRelease\n",
            "Hit:13 http://ppa.launchpad.net/deadsnakes/ppa/ubuntu bionic InRelease\n",
            "Get:14 http://security.ubuntu.com/ubuntu bionic-security/main amd64 Packages [2,733 kB]\n",
            "Hit:15 http://ppa.launchpad.net/graphics-drivers/ppa/ubuntu bionic InRelease\n",
            "Get:16 http://archive.ubuntu.com/ubuntu bionic-updates/universe amd64 Packages [2,272 kB]\n",
            "Get:17 http://security.ubuntu.com/ubuntu bionic-security/universe amd64 Packages [1,496 kB]\n",
            "Get:18 http://archive.ubuntu.com/ubuntu bionic-updates/main amd64 Packages [3,167 kB]\n",
            "Get:19 http://ppa.launchpad.net/c2d4u.team/c2d4u4.0+/ubuntu bionic/main Sources [1,953 kB]\n",
            "Get:20 http://ppa.launchpad.net/c2d4u.team/c2d4u4.0+/ubuntu bionic/main amd64 Packages [1,001 kB]\n",
            "Fetched 13.0 MB in 5s (2,768 kB/s)\n",
            "Reading package lists... Done\n",
            "Reading package lists... Done\n",
            "Building dependency tree       \n",
            "Reading state information... Done\n",
            "The following packages were automatically installed and are no longer required:\n",
            "  libnvidia-common-460 nsight-compute-2020.2.0\n",
            "Use 'apt autoremove' to remove them.\n",
            "The following additional packages will be installed:\n",
            "  chromium-browser chromium-browser-l10n chromium-codecs-ffmpeg-extra\n",
            "Suggested packages:\n",
            "  webaccounts-chromium-extension unity-chromium-extension\n",
            "The following NEW packages will be installed:\n",
            "  chromium-browser chromium-browser-l10n chromium-chromedriver\n",
            "  chromium-codecs-ffmpeg-extra\n",
            "0 upgraded, 4 newly installed, 0 to remove and 54 not upgraded.\n",
            "Need to get 88.4 MB of archives.\n",
            "After this operation, 297 MB of additional disk space will be used.\n",
            "Get:1 http://archive.ubuntu.com/ubuntu bionic-updates/universe amd64 chromium-codecs-ffmpeg-extra amd64 100.0.4896.127-0ubuntu0.18.04.1 [1,142 kB]\n",
            "Get:2 http://archive.ubuntu.com/ubuntu bionic-updates/universe amd64 chromium-browser amd64 100.0.4896.127-0ubuntu0.18.04.1 [77.6 MB]\n",
            "Get:3 http://archive.ubuntu.com/ubuntu bionic-updates/universe amd64 chromium-browser-l10n all 100.0.4896.127-0ubuntu0.18.04.1 [4,496 kB]\n",
            "Get:4 http://archive.ubuntu.com/ubuntu bionic-updates/universe amd64 chromium-chromedriver amd64 100.0.4896.127-0ubuntu0.18.04.1 [5,190 kB]\n",
            "Fetched 88.4 MB in 3s (31.6 MB/s)\n",
            "Selecting previously unselected package chromium-codecs-ffmpeg-extra.\n",
            "(Reading database ... 155202 files and directories currently installed.)\n",
            "Preparing to unpack .../chromium-codecs-ffmpeg-extra_100.0.4896.127-0ubuntu0.18.04.1_amd64.deb ...\n",
            "Unpacking chromium-codecs-ffmpeg-extra (100.0.4896.127-0ubuntu0.18.04.1) ...\n",
            "Selecting previously unselected package chromium-browser.\n",
            "Preparing to unpack .../chromium-browser_100.0.4896.127-0ubuntu0.18.04.1_amd64.deb ...\n",
            "Unpacking chromium-browser (100.0.4896.127-0ubuntu0.18.04.1) ...\n",
            "Selecting previously unselected package chromium-browser-l10n.\n",
            "Preparing to unpack .../chromium-browser-l10n_100.0.4896.127-0ubuntu0.18.04.1_all.deb ...\n",
            "Unpacking chromium-browser-l10n (100.0.4896.127-0ubuntu0.18.04.1) ...\n",
            "Selecting previously unselected package chromium-chromedriver.\n",
            "Preparing to unpack .../chromium-chromedriver_100.0.4896.127-0ubuntu0.18.04.1_amd64.deb ...\n",
            "Unpacking chromium-chromedriver (100.0.4896.127-0ubuntu0.18.04.1) ...\n",
            "Setting up chromium-codecs-ffmpeg-extra (100.0.4896.127-0ubuntu0.18.04.1) ...\n",
            "Setting up chromium-browser (100.0.4896.127-0ubuntu0.18.04.1) ...\n",
            "update-alternatives: using /usr/bin/chromium-browser to provide /usr/bin/x-www-browser (x-www-browser) in auto mode\n",
            "update-alternatives: using /usr/bin/chromium-browser to provide /usr/bin/gnome-www-browser (gnome-www-browser) in auto mode\n",
            "Setting up chromium-chromedriver (100.0.4896.127-0ubuntu0.18.04.1) ...\n",
            "Setting up chromium-browser-l10n (100.0.4896.127-0ubuntu0.18.04.1) ...\n",
            "Processing triggers for man-db (2.8.3-2ubuntu0.1) ...\n",
            "Processing triggers for hicolor-icon-theme (0.17-2) ...\n",
            "Processing triggers for mime-support (3.60ubuntu1) ...\n",
            "Processing triggers for libc-bin (2.27-3ubuntu1.3) ...\n",
            "/sbin/ldconfig.real: /usr/local/lib/python3.7/dist-packages/ideep4py/lib/libmkldnn.so.0 is not a symbolic link\n",
            "\n",
            "cp: missing destination file operand after '/usr/lib/chromium-browser/chromedriver/usr/bin'\n",
            "Try 'cp --help' for more information.\n"
          ]
        }
      ]
    },
    {
      "cell_type": "code",
      "source": [
        "# 멜론 차트 크롤링\n",
        "driver.get('https://www.melon.com/chart/')"
      ],
      "metadata": {
        "id": "UkarbjeP-JhY"
      },
      "execution_count": 36,
      "outputs": []
    },
    {
      "cell_type": "code",
      "source": [
        "from bs4 import BeautifulSoup as bs  # 가져온 페이지를 분석하기 용이하게 정제\n",
        "import pandas as pd                  # 데이터 분석 도구\n",
        "\n",
        "html = driver.page_source\n",
        "soup = bs(html)"
      ],
      "metadata": {
        "id": "ZAbS5vAU-ujD"
      },
      "execution_count": 38,
      "outputs": []
    },
    {
      "cell_type": "code",
      "source": [
        "len(soup.select('tr'))"
      ],
      "metadata": {
        "colab": {
          "base_uri": "https://localhost:8080/"
        },
        "id": "51Mu6WX7_OGu",
        "outputId": "0b752a0e-8ad5-4822-9ff8-9f75e194cbbb"
      },
      "execution_count": 40,
      "outputs": [
        {
          "output_type": "execute_result",
          "data": {
            "text/plain": [
              "101"
            ]
          },
          "metadata": {},
          "execution_count": 40
        }
      ]
    },
    {
      "cell_type": "code",
      "source": [
        "len(soup.select('tbody > tr'))"
      ],
      "metadata": {
        "colab": {
          "base_uri": "https://localhost:8080/"
        },
        "id": "7LXu1LIE_0-_",
        "outputId": "3bef8b78-161c-4a31-876c-1f3aede79aac"
      },
      "execution_count": 41,
      "outputs": [
        {
          "output_type": "execute_result",
          "data": {
            "text/plain": [
              "100"
            ]
          },
          "metadata": {},
          "execution_count": 41
        }
      ]
    },
    {
      "cell_type": "code",
      "source": [
        "songs = soup.select('tbody > tr')"
      ],
      "metadata": {
        "id": "HL6RlwsxAQAn"
      },
      "execution_count": 42,
      "outputs": []
    },
    {
      "cell_type": "code",
      "source": [
        "songs[0]"
      ],
      "metadata": {
        "colab": {
          "base_uri": "https://localhost:8080/"
        },
        "id": "BTbpnAHRAX9N",
        "outputId": "f364dfe5-4e54-40c1-a2e3-2adb0501aac5"
      },
      "execution_count": 43,
      "outputs": [
        {
          "output_type": "execute_result",
          "data": {
            "text/plain": [
              "<tr class=\"lst50\" data-song-no=\"34845949\" id=\"lst50\">\n",
              "<td><div class=\"wrap t_right\"><input class=\"input_check \" name=\"input_check\" title=\"봄여름가을겨울 (Still Life) 곡 선택\" type=\"checkbox\" value=\"34845949\"/></div></td>\n",
              "<td><div class=\"wrap t_center\"><span class=\"rank \">1</span><span class=\"none\">위</span></div></td>\n",
              "<!-- 차트순위 추가 -->\n",
              "<td><div class=\"wrap\">\n",
              "<span class=\"rank_wrap\" title=\"순위 동일\">\n",
              "<span class=\"bullet_icons rank_static\"><span class=\"none\">순위 동일</span></span>\n",
              "<span class=\"none\">0</span>\n",
              "</span>\n",
              "</div></td>\n",
              "<td><div class=\"wrap\">\n",
              "<a class=\"image_typeAll\" href=\"javascript:melon.link.goAlbumDetail('10908834');\" title=\"봄여름가을겨울 (Still Life)\">\n",
              "<img alt=\"봄여름가을겨울 (Still Life) - 페이지 이동\" height=\"60\" onerror=\"WEBPOCIMG.defaultAlbumImg(this);\" src=\"https://cdnimg.melon.co.kr/cm2/album/images/109/08/834/10908834_20220404174407_500.jpg/melon/resize/120/quality/80/optimize\" width=\"60\"/>\n",
              "<span class=\"bg_album_frame\"></span>\n",
              "</a>\n",
              "</div></td>\n",
              "<td><div class=\"wrap\">\n",
              "<a class=\"btn button_icons type03 song_info\" href=\"javascript:melon.link.goSongDetail('34845949');\" title=\"봄여름가을겨울 (Still Life) 곡정보\"><span class=\"none\">곡정보</span></a>\n",
              "</div></td>\n",
              "<td><div class=\"wrap\">\n",
              "<div class=\"wrap_song_info\">\n",
              "<div class=\"ellipsis rank01\"><span>\n",
              "<a href=\"javascript:melon.play.playSong('1000002721',34845949);\" title=\"봄여름가을겨울 (Still Life) 재생\">봄여름가을겨울 (Still Life)</a>\n",
              "</span></div><br/>\n",
              "<div class=\"ellipsis rank02\">\n",
              "<a href=\"javascript:melon.link.goArtistDetail('198094');\" title=\"BIGBANG (빅뱅) - 페이지 이동\">BIGBANG (빅뱅)</a><span class=\"checkEllipsis\" style=\"display: none;\"><a href=\"javascript:melon.link.goArtistDetail('198094');\" title=\"BIGBANG (빅뱅) - 페이지 이동\">BIGBANG (빅뱅)</a></span>\n",
              "</div>\n",
              "</div>\n",
              "</div></td>\n",
              "<td><div class=\"wrap\">\n",
              "<div class=\"wrap_song_info\">\n",
              "<div class=\"ellipsis rank03\">\n",
              "<a href=\"javascript:melon.link.goAlbumDetail('10908834');\" title=\"봄여름가을겨울 (Still Life) - 페이지 이동\">봄여름가을겨울 (Still Life)</a>\n",
              "</div>\n",
              "</div>\n",
              "</div></td>\n",
              "<td><div class=\"wrap\">\n",
              "<button class=\"button_etc like\" data-song-menuid=\"1000002721\" data-song-no=\"34845949\" title=\"봄여름가을겨울 (Still Life) 좋아요\" type=\"button\"><span class=\"odd_span\">좋아요</span>\n",
              "<span class=\"cnt\">\n",
              "<span class=\"none\">총건수</span>\n",
              "250,334</span></button>\n",
              "</div></td>\n",
              "<td><div class=\"wrap t_center\">\n",
              "<button class=\"button_icons play \" onclick=\"melon.play.playSong('1000002721',34845949);\" title=\"듣기\" type=\"button\"><span class=\"none\">듣기</span></button>\n",
              "</div></td>\n",
              "<td><div class=\"wrap t_center\">\n",
              "<button class=\"button_icons scrap \" onclick=\"melon.play.addPlayList('34845949');\" title=\"담기\" type=\"button\"><span class=\"none\">담기</span></button>\n",
              "</div></td>\n",
              "<td><div class=\"wrap t_center\">\n",
              "<button class=\"button_icons download \" onclick=\"melon.buy.goBuyProduct('frm', '34845949', '3C0001', '','0', '1000002721');\" title=\"다운로드\" type=\"button\"><span class=\"none\">다운로드</span></button>\n",
              "</div></td>\n",
              "<td><div class=\"wrap t_center\">\n",
              "<button class=\"button_icons video \" onclick=\"melon.link.goMvDetail('1000002721', '34845949','song');\" title=\"뮤직비디오\" type=\"button\"><span class=\"none\">뮤직비디오</span></button>\n",
              "</div></td>\n",
              "</tr>"
            ]
          },
          "metadata": {},
          "execution_count": 43
        }
      ]
    },
    {
      "cell_type": "code",
      "source": [
        "title = songs[0].select('div.rank01 > span > a')[0].text\n",
        "singer = songs[0].select('div.rank02 > span > a')[0].text"
      ],
      "metadata": {
        "id": "IdbE1TiwBeYG"
      },
      "execution_count": null,
      "outputs": []
    },
    {
      "cell_type": "code",
      "source": [
        "# 100곡 추출후 데이터프레임 만들고 엑셀 파일 만들기\n",
        "\n",
        "song_data = []\n",
        "rank = 1\n",
        "\n",
        "songs = soup.select('tbody > tr')\n",
        "\n",
        "for song in songs:\n",
        "  title = song.select('div.rank01 > span > a')[0].text\n",
        "  singer = song.select('div.rank02 > span > a')[0].text\n",
        "  song_data.append(['Melon', rank, title, singer])\n",
        "  rank += 1\n",
        "\n",
        "df = pd.DataFrame(song_data, columns = ['차트명','순위','타이틀','가수'])\n",
        "df"
      ],
      "metadata": {
        "colab": {
          "base_uri": "https://localhost:8080/",
          "height": 424
        },
        "id": "H3FgMPdnDFhF",
        "outputId": "98f95f03-ba87-4233-d7ee-47e47f3d7255"
      },
      "execution_count": 50,
      "outputs": [
        {
          "output_type": "execute_result",
          "data": {
            "text/plain": [
              "      차트명   순위                                    타이틀              가수\n",
              "0   Melon    1                   봄여름가을겨울 (Still Life)    BIGBANG (빅뱅)\n",
              "1   Melon    2                              LOVE DIVE       IVE (아이브)\n",
              "2   Melon    3                                 TOMBOY         (여자)아이들\n",
              "3   Melon    4  That That (prod. & feat. SUGA of BTS)        싸이 (PSY)\n",
              "4   Melon    5                                 사랑인가 봐            멜로망스\n",
              "..    ...  ...                                    ...             ...\n",
              "95  Melon   96                            나는 트로트가 싫어요             임창정\n",
              "96  Melon   97                                   LOVE           몬스타엑스\n",
              "97  Melon   98                       감동이야 (feat. 성시경)        싸이 (PSY)\n",
              "98  Melon   99                               Darl+ing             세븐틴\n",
              "99  Melon  100       Stronger (What Doesn't Kill You)  Kelly Clarkson\n",
              "\n",
              "[100 rows x 4 columns]"
            ],
            "text/html": [
              "\n",
              "  <div id=\"df-4b401999-b589-4d02-9c8c-45bf4efe3856\">\n",
              "    <div class=\"colab-df-container\">\n",
              "      <div>\n",
              "<style scoped>\n",
              "    .dataframe tbody tr th:only-of-type {\n",
              "        vertical-align: middle;\n",
              "    }\n",
              "\n",
              "    .dataframe tbody tr th {\n",
              "        vertical-align: top;\n",
              "    }\n",
              "\n",
              "    .dataframe thead th {\n",
              "        text-align: right;\n",
              "    }\n",
              "</style>\n",
              "<table border=\"1\" class=\"dataframe\">\n",
              "  <thead>\n",
              "    <tr style=\"text-align: right;\">\n",
              "      <th></th>\n",
              "      <th>차트명</th>\n",
              "      <th>순위</th>\n",
              "      <th>타이틀</th>\n",
              "      <th>가수</th>\n",
              "    </tr>\n",
              "  </thead>\n",
              "  <tbody>\n",
              "    <tr>\n",
              "      <th>0</th>\n",
              "      <td>Melon</td>\n",
              "      <td>1</td>\n",
              "      <td>봄여름가을겨울 (Still Life)</td>\n",
              "      <td>BIGBANG (빅뱅)</td>\n",
              "    </tr>\n",
              "    <tr>\n",
              "      <th>1</th>\n",
              "      <td>Melon</td>\n",
              "      <td>2</td>\n",
              "      <td>LOVE DIVE</td>\n",
              "      <td>IVE (아이브)</td>\n",
              "    </tr>\n",
              "    <tr>\n",
              "      <th>2</th>\n",
              "      <td>Melon</td>\n",
              "      <td>3</td>\n",
              "      <td>TOMBOY</td>\n",
              "      <td>(여자)아이들</td>\n",
              "    </tr>\n",
              "    <tr>\n",
              "      <th>3</th>\n",
              "      <td>Melon</td>\n",
              "      <td>4</td>\n",
              "      <td>That That (prod. &amp; feat. SUGA of BTS)</td>\n",
              "      <td>싸이 (PSY)</td>\n",
              "    </tr>\n",
              "    <tr>\n",
              "      <th>4</th>\n",
              "      <td>Melon</td>\n",
              "      <td>5</td>\n",
              "      <td>사랑인가 봐</td>\n",
              "      <td>멜로망스</td>\n",
              "    </tr>\n",
              "    <tr>\n",
              "      <th>...</th>\n",
              "      <td>...</td>\n",
              "      <td>...</td>\n",
              "      <td>...</td>\n",
              "      <td>...</td>\n",
              "    </tr>\n",
              "    <tr>\n",
              "      <th>95</th>\n",
              "      <td>Melon</td>\n",
              "      <td>96</td>\n",
              "      <td>나는 트로트가 싫어요</td>\n",
              "      <td>임창정</td>\n",
              "    </tr>\n",
              "    <tr>\n",
              "      <th>96</th>\n",
              "      <td>Melon</td>\n",
              "      <td>97</td>\n",
              "      <td>LOVE</td>\n",
              "      <td>몬스타엑스</td>\n",
              "    </tr>\n",
              "    <tr>\n",
              "      <th>97</th>\n",
              "      <td>Melon</td>\n",
              "      <td>98</td>\n",
              "      <td>감동이야 (feat. 성시경)</td>\n",
              "      <td>싸이 (PSY)</td>\n",
              "    </tr>\n",
              "    <tr>\n",
              "      <th>98</th>\n",
              "      <td>Melon</td>\n",
              "      <td>99</td>\n",
              "      <td>Darl+ing</td>\n",
              "      <td>세븐틴</td>\n",
              "    </tr>\n",
              "    <tr>\n",
              "      <th>99</th>\n",
              "      <td>Melon</td>\n",
              "      <td>100</td>\n",
              "      <td>Stronger (What Doesn't Kill You)</td>\n",
              "      <td>Kelly Clarkson</td>\n",
              "    </tr>\n",
              "  </tbody>\n",
              "</table>\n",
              "<p>100 rows × 4 columns</p>\n",
              "</div>\n",
              "      <button class=\"colab-df-convert\" onclick=\"convertToInteractive('df-4b401999-b589-4d02-9c8c-45bf4efe3856')\"\n",
              "              title=\"Convert this dataframe to an interactive table.\"\n",
              "              style=\"display:none;\">\n",
              "        \n",
              "  <svg xmlns=\"http://www.w3.org/2000/svg\" height=\"24px\"viewBox=\"0 0 24 24\"\n",
              "       width=\"24px\">\n",
              "    <path d=\"M0 0h24v24H0V0z\" fill=\"none\"/>\n",
              "    <path d=\"M18.56 5.44l.94 2.06.94-2.06 2.06-.94-2.06-.94-.94-2.06-.94 2.06-2.06.94zm-11 1L8.5 8.5l.94-2.06 2.06-.94-2.06-.94L8.5 2.5l-.94 2.06-2.06.94zm10 10l.94 2.06.94-2.06 2.06-.94-2.06-.94-.94-2.06-.94 2.06-2.06.94z\"/><path d=\"M17.41 7.96l-1.37-1.37c-.4-.4-.92-.59-1.43-.59-.52 0-1.04.2-1.43.59L10.3 9.45l-7.72 7.72c-.78.78-.78 2.05 0 2.83L4 21.41c.39.39.9.59 1.41.59.51 0 1.02-.2 1.41-.59l7.78-7.78 2.81-2.81c.8-.78.8-2.07 0-2.86zM5.41 20L4 18.59l7.72-7.72 1.47 1.35L5.41 20z\"/>\n",
              "  </svg>\n",
              "      </button>\n",
              "      \n",
              "  <style>\n",
              "    .colab-df-container {\n",
              "      display:flex;\n",
              "      flex-wrap:wrap;\n",
              "      gap: 12px;\n",
              "    }\n",
              "\n",
              "    .colab-df-convert {\n",
              "      background-color: #E8F0FE;\n",
              "      border: none;\n",
              "      border-radius: 50%;\n",
              "      cursor: pointer;\n",
              "      display: none;\n",
              "      fill: #1967D2;\n",
              "      height: 32px;\n",
              "      padding: 0 0 0 0;\n",
              "      width: 32px;\n",
              "    }\n",
              "\n",
              "    .colab-df-convert:hover {\n",
              "      background-color: #E2EBFA;\n",
              "      box-shadow: 0px 1px 2px rgba(60, 64, 67, 0.3), 0px 1px 3px 1px rgba(60, 64, 67, 0.15);\n",
              "      fill: #174EA6;\n",
              "    }\n",
              "\n",
              "    [theme=dark] .colab-df-convert {\n",
              "      background-color: #3B4455;\n",
              "      fill: #D2E3FC;\n",
              "    }\n",
              "\n",
              "    [theme=dark] .colab-df-convert:hover {\n",
              "      background-color: #434B5C;\n",
              "      box-shadow: 0px 1px 3px 1px rgba(0, 0, 0, 0.15);\n",
              "      filter: drop-shadow(0px 1px 2px rgba(0, 0, 0, 0.3));\n",
              "      fill: #FFFFFF;\n",
              "    }\n",
              "  </style>\n",
              "\n",
              "      <script>\n",
              "        const buttonEl =\n",
              "          document.querySelector('#df-4b401999-b589-4d02-9c8c-45bf4efe3856 button.colab-df-convert');\n",
              "        buttonEl.style.display =\n",
              "          google.colab.kernel.accessAllowed ? 'block' : 'none';\n",
              "\n",
              "        async function convertToInteractive(key) {\n",
              "          const element = document.querySelector('#df-4b401999-b589-4d02-9c8c-45bf4efe3856');\n",
              "          const dataTable =\n",
              "            await google.colab.kernel.invokeFunction('convertToInteractive',\n",
              "                                                     [key], {});\n",
              "          if (!dataTable) return;\n",
              "\n",
              "          const docLinkHtml = 'Like what you see? Visit the ' +\n",
              "            '<a target=\"_blank\" href=https://colab.research.google.com/notebooks/data_table.ipynb>data table notebook</a>'\n",
              "            + ' to learn more about interactive tables.';\n",
              "          element.innerHTML = '';\n",
              "          dataTable['output_type'] = 'display_data';\n",
              "          await google.colab.output.renderOutput(dataTable, element);\n",
              "          const docLink = document.createElement('div');\n",
              "          docLink.innerHTML = docLinkHtml;\n",
              "          element.appendChild(docLink);\n",
              "        }\n",
              "      </script>\n",
              "    </div>\n",
              "  </div>\n",
              "  "
            ]
          },
          "metadata": {},
          "execution_count": 50
        }
      ]
    },
    {
      "cell_type": "code",
      "source": [
        "df.to_excel('melon.xlsx', index=False)"
      ],
      "metadata": {
        "id": "WobUVVyKFaCH"
      },
      "execution_count": 51,
      "outputs": []
    },
    {
      "cell_type": "code",
      "source": [
        "# 지니 차트 순위\n",
        "# 네이버 영화 순위 (조회순, 평점순)\n",
        "\n",
        "# xlsx 3개, ipynb 링크 3개\n",
        "# 토요일 저녁 10시 까지 "
      ],
      "metadata": {
        "id": "OfG1sYtDGJUK"
      },
      "execution_count": null,
      "outputs": []
    }
  ]
}