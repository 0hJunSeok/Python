{
  "nbformat": 4,
  "nbformat_minor": 0,
  "metadata": {
    "colab": {
      "name": "Python3Day",
      "provenance": [],
      "authorship_tag": "ABX9TyOzOwXstVvafuFstBNcuLJx",
      "include_colab_link": true
    },
    "kernelspec": {
      "name": "python3",
      "display_name": "Python 3"
    },
    "language_info": {
      "name": "python"
    }
  },
  "cells": [
    {
      "cell_type": "markdown",
      "metadata": {
        "id": "view-in-github",
        "colab_type": "text"
      },
      "source": [
        "<a href=\"https://colab.research.google.com/github/0hJunSeok/Python/blob/main/Python3Day.ipynb\" target=\"_parent\"><img src=\"https://colab.research.google.com/assets/colab-badge.svg\" alt=\"Open In Colab\"/></a>"
      ]
    },
    {
      "cell_type": "code",
      "execution_count": null,
      "metadata": {
        "id": "vr1i51bkHK7b"
      },
      "outputs": [],
      "source": [
        "# 표준입력\n",
        "# input()함수는 키보드로 입력을 받을때 사용된다.\n",
        "\n",
        "n = input()\n",
        "print(f'당신이 입력한 수는 {n}입니다.')"
      ]
    },
    {
      "cell_type": "code",
      "source": [
        "name = input('이름을 입력하세요 >>> ')\n",
        "age = input('나이를 입력하세요 >>> ')\n",
        "\n",
        "print(f'입력된 이름은 {name}이고 나이는 {age}입니다.')"
      ],
      "metadata": {
        "id": "jRHxep9vJTgG"
      },
      "execution_count": null,
      "outputs": []
    },
    {
      "cell_type": "code",
      "source": [
        "fruit = input('좋아하는 과일은? ')\n",
        "print(f'당신이 좋아하는 과일은 {fruit}입니다.')"
      ],
      "metadata": {
        "id": "jBqd1WAUJ4J-"
      },
      "execution_count": null,
      "outputs": []
    },
    {
      "cell_type": "code",
      "source": [
        "# 형 변환 \n",
        "# input을 사용해서 나오는 값은 무조건 str(문자열)이다\n",
        "n = input('정수 입력 >>> ')\n",
        "print(type(n))"
      ],
      "metadata": {
        "id": "w9D8mln4K16e"
      },
      "execution_count": null,
      "outputs": []
    },
    {
      "cell_type": "code",
      "source": [
        "price = 5000\n",
        "n = input('할부 개월 입력 >>> ')\n",
        "print(f'매달 내는 돈은 {price / n}원 입니다.')"
      ],
      "metadata": {
        "id": "ywg7k0MELWby"
      },
      "execution_count": null,
      "outputs": []
    },
    {
      "cell_type": "code",
      "source": [
        "price = 5000\n",
        "n = int(input('할부 개월 입력 >>> '))\n",
        "print(f'매달 내는 돈은 {price / n}원 입니다.') # 정수는 int"
      ],
      "metadata": {
        "id": "UYlL1kFKL_aA"
      },
      "execution_count": null,
      "outputs": []
    },
    {
      "cell_type": "code",
      "source": [
        "a = float(input('첫 번째 실수를 입력하세요 >>> '))\n",
        "b = float(input('두 번째 실수를 입력하세요 >>> '))\n",
        "print(f'{a}와 {b}의 합은 {a + b}입니다.') # 실수는 float"
      ],
      "metadata": {
        "id": "N6VZQXoaMNxn"
      },
      "execution_count": null,
      "outputs": []
    },
    {
      "cell_type": "code",
      "source": [
        "day = [31,28,31,30,31,30,31,31,30,31,30,31]\n",
        "month = int(input('1~12 사이의 월을 입력하세요 >>> '))\n",
        "print(f'{month}월은 {day[month-1]}일 까지있습니다 ')"
      ],
      "metadata": {
        "id": "luOgknE1Nmyg"
      },
      "execution_count": null,
      "outputs": []
    },
    {
      "cell_type": "code",
      "source": [
        "english_dict = {\n",
        "    'flower': '꽃',\n",
        "    'fly': '날다',\n",
        "    'floor': '바닥'\n",
        "}\n",
        "\n",
        "word = input('영어 단어를 입력하세요 >>> ')\n",
        "print(f'{word} : {english_dict[word]}') # dict 키입력 밸류출력"
      ],
      "metadata": {
        "id": "-trye5ChQgew"
      },
      "execution_count": null,
      "outputs": []
    },
    {
      "cell_type": "code",
      "source": [
        "s = set()\n",
        "\n",
        "hope = input('희망하는 수학여행지를 입력하세요 >>> ')\n",
        "s.add(hope)\n",
        "hope = input('희망하는 수학여행지를 입력하세요 >>> ')\n",
        "s.add(hope)\n",
        "hope = input('희망하는 수학여행지를 입력하세요 >>> ')\n",
        "s.add(hope)\n",
        "print(f'조사된 수학여행지는 {s} 입니다.') # set 중복 제거"
      ],
      "metadata": {
        "id": "5Qp2tJQPSBne"
      },
      "execution_count": null,
      "outputs": []
    },
    {
      "cell_type": "code",
      "source": [
        "# 연산자\n",
        "# **거듭제곱 //몫 %나머지\n",
        "\n",
        "a = 7\n",
        "b = 2\n",
        "print(f'{a} + {b} = {a + b} ')\n",
        "print(f'{a} - {b} = {a - b}')\n",
        "print(f'{a} * {b} = {a * b}')\n",
        "print(f'{a} ** {b} = {a ** b}')\n",
        "print(f'{a} / {b} = {a / b}')\n",
        "print(f'{a} // {b} = {a // b}') # 별로안씀\n",
        "print(f'{a} % {b} = {a % b}') # 많이씀"
      ],
      "metadata": {
        "id": "p7OjZRMLVNdl"
      },
      "execution_count": null,
      "outputs": []
    },
    {
      "cell_type": "code",
      "source": [
        "#대입 연산자\n",
        "\n",
        "a = 1\n",
        "b = 2\n",
        "\n",
        "a, b = 1, 2\n",
        "\n",
        "# 두 변수의 값 교환(다른언어)\n",
        "\n",
        "t = a\n",
        "a = b\n",
        "b = t\n",
        "print(f'a = {a}, b = {b}')\n",
        "\n",
        "# 두 변수의 값 교환(파이썬)\n",
        "\n",
        "a, b = b, a\n",
        "print(f'a = {a}, b = {b}')"
      ],
      "metadata": {
        "id": "qOjkRo6TXFuf"
      },
      "execution_count": null,
      "outputs": []
    },
    {
      "cell_type": "code",
      "source": [
        "# 복합 대입 연산자\n",
        "\n",
        "a = 1\n",
        "print(a)\n",
        "a = a + 1\n",
        "print(a)\n",
        "a += 1\n",
        "print(a)\n",
        "a -= 1 # a = a - 1\n",
        "print(a)"
      ],
      "metadata": {
        "id": "SJ3TbbJVaU0z"
      },
      "execution_count": null,
      "outputs": []
    },
    {
      "cell_type": "code",
      "source": [
        "a, b = 10, 20\n",
        "print(f'a = {a}, b = {b}')\n",
        "\n",
        "a, b = b, a # 파이썬 고유의 표현\n",
        "print(f'a = {a}, b = {b}')"
      ],
      "metadata": {
        "id": "rO1ITnJmbNyx"
      },
      "execution_count": null,
      "outputs": []
    },
    {
      "cell_type": "code",
      "source": [
        "piggy_bank = 0\n",
        "\n",
        "money = 10000\n",
        "piggy_bank += money\n",
        "print(f'저금통에 용돈 {money}원을 넣었습니다.')\n",
        "print(f'지금 저금통에는 {piggy_bank}원이 있습니다.')\n",
        "\n",
        "snack = 2000\n",
        "piggy_bank -= snack\n",
        "print(f'저금통에서 스낵 구입비 {snack}원을 뺐습니다.')\n",
        "print(f'지금 저금통에는 {piggy_bank}원이 있습니다.')"
      ],
      "metadata": {
        "id": "BiGn5TQlbr4b"
      },
      "execution_count": null,
      "outputs": []
    },
    {
      "cell_type": "code",
      "source": [
        "# 시퀸스 연산자\n",
        "\n",
        "[1,3,5] + [2,4,6]"
      ],
      "metadata": {
        "id": "yvOp8wI5dfJ5"
      },
      "execution_count": null,
      "outputs": []
    },
    {
      "cell_type": "code",
      "source": [
        "'hello'+' '+'python'"
      ],
      "metadata": {
        "id": "WG5S3UKdeSUW"
      },
      "execution_count": null,
      "outputs": []
    },
    {
      "cell_type": "code",
      "source": [
        "[1,3,5] * 2"
      ],
      "metadata": {
        "id": "UB570aiLefEH"
      },
      "execution_count": null,
      "outputs": []
    },
    {
      "cell_type": "code",
      "source": [
        "'*' * 5"
      ],
      "metadata": {
        "id": "D94CxWDCemWb"
      },
      "execution_count": null,
      "outputs": []
    },
    {
      "cell_type": "code",
      "source": [
        "'-' * 30    #문자열이 계산이 된다"
      ],
      "metadata": {
        "id": "H68-G1R9eqgZ"
      },
      "execution_count": null,
      "outputs": []
    },
    {
      "cell_type": "code",
      "source": [
        "# 멤버쉽 연산자\n",
        "# 어떤 값이 지정된 컬렉션에 (리스트, 문자열, 딕셔너리) 속해 있는지 여부를 판단하여 \n",
        "# 속해있으면 Ture 아니면 False로 반환\n",
        "\n",
        "5 in [1,2,3,4,5]"
      ],
      "metadata": {
        "id": "IuzXyTJFe8mp"
      },
      "execution_count": null,
      "outputs": []
    },
    {
      "cell_type": "code",
      "source": [
        "'n' in 'apple'"
      ],
      "metadata": {
        "id": "VopL6xoQfWIe"
      },
      "execution_count": null,
      "outputs": []
    },
    {
      "cell_type": "code",
      "source": [
        "5 not in [1,2,3,4,5]"
      ],
      "metadata": {
        "id": "e9UihXlQfaU5"
      },
      "execution_count": null,
      "outputs": []
    },
    {
      "cell_type": "code",
      "source": [
        "# 삼항 연산자\n",
        "\n",
        "# 참 if 조건식 else 거짓\n",
        "\n",
        "1 if 1 > 2 else 2"
      ],
      "metadata": {
        "id": "J7v9WkP7fw-P"
      },
      "execution_count": null,
      "outputs": []
    },
    {
      "cell_type": "code",
      "source": [
        "no = int(input('10 ~ 99 사이의 정수를 입력하세요 >>> '))\n",
        "print(f'십의 자리 : {no // 10}')\n",
        "print(f'일의 자리 : {no % 10}')"
      ],
      "metadata": {
        "id": "zO9C2ZDYgl6B"
      },
      "execution_count": null,
      "outputs": []
    },
    {
      "cell_type": "code",
      "source": [
        "second = int(input('초를 입력하세요 >>> '))\n",
        "print(f'변환 결과는 {second // 3600}시간 {(second % 3600) // 60}분 {second % 60}초 입니다')"
      ],
      "metadata": {
        "id": "d0Wap_Nhjh52"
      },
      "execution_count": null,
      "outputs": []
    },
    {
      "cell_type": "code",
      "source": [
        "id = int(input('4자리 사원번호를 입력하세요 >>> '))\n",
        "id_last = id % 10\n",
        "is_am = id_last >= 5\n",
        "print(f'근무 시간은 {(\"오전\" if is_am else \"오후\")}입니다.')"
      ],
      "metadata": {
        "id": "FFWtdnqvoTgm"
      },
      "execution_count": null,
      "outputs": []
    }
  ]
}