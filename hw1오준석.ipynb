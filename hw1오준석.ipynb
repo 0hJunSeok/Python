{
  "nbformat": 4,
  "nbformat_minor": 0,
  "metadata": {
    "colab": {
      "name": "hw1오준석",
      "provenance": [],
      "collapsed_sections": [],
      "authorship_tag": "ABX9TyOJjw3GsdSYWEJTduEJYnh4",
      "include_colab_link": true
    },
    "kernelspec": {
      "name": "python3",
      "display_name": "Python 3"
    },
    "language_info": {
      "name": "python"
    }
  },
  "cells": [
    {
      "cell_type": "markdown",
      "metadata": {
        "id": "view-in-github",
        "colab_type": "text"
      },
      "source": [
        "<a href=\"https://colab.research.google.com/github/0hJunSeok/Python/blob/main/hw1%EC%98%A4%EC%A4%80%EC%84%9D.ipynb\" target=\"_parent\"><img src=\"https://colab.research.google.com/assets/colab-badge.svg\" alt=\"Open In Colab\"/></a>"
      ]
    },
    {
      "cell_type": "code",
      "execution_count": null,
      "metadata": {
        "id": "C0JO_8airc5N"
      },
      "outputs": [],
      "source": [
        "# 001\n",
        "print('Hello World')"
      ]
    },
    {
      "cell_type": "code",
      "source": [
        "# 002\n",
        "print('Mary\\'s cosmetics')"
      ],
      "metadata": {
        "id": "aoBvrJVrrxWB"
      },
      "execution_count": null,
      "outputs": []
    },
    {
      "cell_type": "code",
      "source": [
        "# 003\n",
        "print('신씨가 소리질렀다. \"도둑이야\".')"
      ],
      "metadata": {
        "id": "VPMVC_FRsEu_"
      },
      "execution_count": null,
      "outputs": []
    },
    {
      "cell_type": "code",
      "source": [
        "# 004\n",
        "print('\"C:\\Windows\"') # 역슬래시 대신 \\ 으로 "
      ],
      "metadata": {
        "id": "1bSUx5RbsS91"
      },
      "execution_count": null,
      "outputs": []
    },
    {
      "cell_type": "code",
      "source": [
        "# 005\n",
        "print(\"안녕하세요.\\n 만나서\\t\\t 반갑습니다.\") # \\n = 줄바꾸기, \\t = 일정 간격 띄우기"
      ],
      "metadata": {
        "id": "lG4fTTgzu6zd"
      },
      "execution_count": null,
      "outputs": []
    },
    {
      "cell_type": "code",
      "source": [
        "# 006\n",
        "print (\"오늘은\", \"일요일\") # sep 를 사용하지 않아서 공백 (오늘은 일요일)"
      ],
      "metadata": {
        "id": "ZU3MrTpjvvoK"
      },
      "execution_count": null,
      "outputs": []
    },
    {
      "cell_type": "code",
      "source": [
        "# 007\n",
        "print('naver', 'kakao', 'sk', 'samsung', sep=';')"
      ],
      "metadata": {
        "id": "mhboAVpmw8vX"
      },
      "execution_count": null,
      "outputs": []
    },
    {
      "cell_type": "code",
      "source": [
        "# 008\n",
        "print('naver', 'kakao', 'sk', 'samsung', sep='/')"
      ],
      "metadata": {
        "id": "_JVKboVMxqXD"
      },
      "execution_count": null,
      "outputs": []
    },
    {
      "cell_type": "code",
      "source": [
        "# 009\n",
        "print(\"first\", end =' ');print(\"second\")"
      ],
      "metadata": {
        "id": "0_KUOzPnyG09"
      },
      "execution_count": null,
      "outputs": []
    },
    {
      "cell_type": "code",
      "source": [
        "# 010\n",
        "a = 5\n",
        "b = 3\n",
        "print(f'{a} / {b} = {a / b} ')"
      ],
      "metadata": {
        "id": "faY4znKYy3sI"
      },
      "execution_count": null,
      "outputs": []
    },
    {
      "cell_type": "code",
      "source": [
        "# 011\n",
        "samsung = 50000\n",
        "stock = 10\n",
        "print(f'총 평가금액은 {samsung * stock}입니다.')"
      ],
      "metadata": {
        "id": "1yO98CNAzrHE"
      },
      "execution_count": null,
      "outputs": []
    },
    {
      "cell_type": "code",
      "source": [
        "# 012\n",
        "total = 298000000000000\n",
        "now = 50000\n",
        "PER = 15.79"
      ],
      "metadata": {
        "id": "SJcZSfLM1Y-O"
      },
      "execution_count": 15,
      "outputs": []
    },
    {
      "cell_type": "code",
      "source": [
        "# 013\n",
        "s = \"hello\"\n",
        "t = \"python\"\n",
        "print(f'{s}! {t}')"
      ],
      "metadata": {
        "id": "yGDhnLLG2JEl"
      },
      "execution_count": null,
      "outputs": []
    },
    {
      "cell_type": "code",
      "source": [
        "# 014\n",
        "2 + 2 * 3 # 곱셈먼저 계산하기떄문에 8"
      ],
      "metadata": {
        "id": "8XGU62wR2h_K"
      },
      "execution_count": null,
      "outputs": []
    },
    {
      "cell_type": "code",
      "source": [
        "# 015\n",
        "a = \"132\" # 132 이라는 문자열"
      ],
      "metadata": {
        "id": "50e6D_NJ3yDz"
      },
      "execution_count": 18,
      "outputs": []
    },
    {
      "cell_type": "code",
      "source": [
        "# 016\n",
        "num_str = \"720\"\n",
        "print(type(num_str))\n",
        "num_str = 720\n",
        "print(type(num_str))"
      ],
      "metadata": {
        "id": "GT6528nI4mhs"
      },
      "execution_count": null,
      "outputs": []
    },
    {
      "cell_type": "code",
      "source": [
        "# 017\n",
        "num = 100\n",
        "print(type(num))\n",
        "num = '100'\n",
        "print(type(num))"
      ],
      "metadata": {
        "id": "L0I3c1jX5LJp"
      },
      "execution_count": null,
      "outputs": []
    },
    {
      "cell_type": "code",
      "source": [
        "# 018\n",
        "a = \"15.79\"\n",
        "print(type(a))\n",
        "a = 15.79\n",
        "print(type(a))"
      ],
      "metadata": {
        "id": "Jn-gFh_u5jG_"
      },
      "execution_count": null,
      "outputs": []
    },
    {
      "cell_type": "code",
      "source": [
        "# 019\n",
        "year = 2020\n",
        "print(f'{year - 2}, {year - 1}, {year}')"
      ],
      "metadata": {
        "id": "Tag_fe0s6FT4"
      },
      "execution_count": null,
      "outputs": []
    },
    {
      "cell_type": "code",
      "source": [
        "# 020\n",
        "money = 48584\n",
        "n = 36\n",
        "print(f'총 금액은 {money * n}원 입니다.')"
      ],
      "metadata": {
        "id": "mTDPi23x7Ujs"
      },
      "execution_count": null,
      "outputs": []
    }
  ]
}