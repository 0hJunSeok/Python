{
  "nbformat": 4,
  "nbformat_minor": 0,
  "metadata": {
    "colab": {
      "name": "hw4 오준석",
      "provenance": [],
      "collapsed_sections": [],
      "authorship_tag": "ABX9TyPFME0/tvWyT7/XhqHaGnoF",
      "include_colab_link": true
    },
    "kernelspec": {
      "name": "python3",
      "display_name": "Python 3"
    },
    "language_info": {
      "name": "python"
    }
  },
  "cells": [
    {
      "cell_type": "markdown",
      "metadata": {
        "id": "view-in-github",
        "colab_type": "text"
      },
      "source": [
        "<a href=\"https://colab.research.google.com/github/0hJunSeok/Python/blob/main/hw4_%EC%98%A4%EC%A4%80%EC%84%9D.ipynb\" target=\"_parent\"><img src=\"https://colab.research.google.com/assets/colab-badge.svg\" alt=\"Open In Colab\"/></a>"
      ]
    },
    {
      "cell_type": "code",
      "execution_count": null,
      "metadata": {
        "id": "f7azGGLre68c"
      },
      "outputs": [],
      "source": [
        "# 211\n",
        "def 함수(문자열) :\n",
        " print(문자열)\n",
        "함수(\"안녕\")\n",
        "함수(\"Hi\")\n",
        "\n",
        "# 안녕\n",
        "# Hi"
      ]
    },
    {
      "cell_type": "code",
      "source": [
        "# 212\n",
        "def 함수(a, b) :\n",
        " print(a + b)\n",
        "함수(3, 4)\n",
        "함수(7, 8) \n",
        "\n",
        "# 7\n",
        "# 15"
      ],
      "metadata": {
        "id": "203lGpaFfP3N"
      },
      "execution_count": null,
      "outputs": []
    },
    {
      "cell_type": "code",
      "source": [
        "# 213\n",
        "def 함수(문자열) :\n",
        " print(문자열)\n",
        "함수()  # 문자열을 안 넣어서"
      ],
      "metadata": {
        "id": "-5jp5pBtfkUU"
      },
      "execution_count": null,
      "outputs": []
    },
    {
      "cell_type": "code",
      "source": [
        "# 214\n",
        "def 함수(a, b) :\n",
        " print(a + b)\n",
        "함수(\"안녕\", 3) # str 과 int를 더할수가 없어서"
      ],
      "metadata": {
        "id": "7hidWVIogEZo"
      },
      "execution_count": null,
      "outputs": []
    },
    {
      "cell_type": "code",
      "source": [
        "# 215\n",
        "def print_with_smile(a):\n",
        "  print(a + ':D')\n",
        "print_with_smile('XD\\n')"
      ],
      "metadata": {
        "id": "0OpEJjhzg0xx",
        "colab": {
          "base_uri": "https://localhost:8080/"
        },
        "outputId": "23b6854f-5791-45a3-c9f1-06545f4b1ff9"
      },
      "execution_count": 23,
      "outputs": [
        {
          "output_type": "stream",
          "name": "stdout",
          "text": [
            "XD\n",
            ":D\n"
          ]
        }
      ]
    },
    {
      "cell_type": "code",
      "source": [
        "# 216\n",
        "print_with_smile('안녕하세요')"
      ],
      "metadata": {
        "colab": {
          "base_uri": "https://localhost:8080/"
        },
        "id": "vzCeOip507PC",
        "outputId": "74438af2-4388-48b4-925e-1dabf8fce9d0"
      },
      "execution_count": 22,
      "outputs": [
        {
          "output_type": "stream",
          "name": "stdout",
          "text": [
            "안녕하세요 :D\n"
          ]
        }
      ]
    },
    {
      "cell_type": "code",
      "source": [
        "# 217\n",
        "def print_upper_price(a):\n",
        "  print(a * 1.3)\n",
        "print_upper_price(100)"
      ],
      "metadata": {
        "colab": {
          "base_uri": "https://localhost:8080/"
        },
        "id": "Nlo4fkuI1xx0",
        "outputId": "53d4f3b7-9dc5-4041-ad80-6bd1fd6af2d1"
      },
      "execution_count": 17,
      "outputs": [
        {
          "output_type": "stream",
          "name": "stdout",
          "text": [
            "130.0\n"
          ]
        }
      ]
    },
    {
      "cell_type": "code",
      "source": [
        "# 218\n",
        "def print_sum(a, b):\n",
        "  print(a + b)\n",
        "print_sum(1,2)"
      ],
      "metadata": {
        "colab": {
          "base_uri": "https://localhost:8080/"
        },
        "id": "9hwRQ5zl26ZF",
        "outputId": "0bc2da37-020b-4051-fd5c-2597934af6fb"
      },
      "execution_count": 26,
      "outputs": [
        {
          "output_type": "stream",
          "name": "stdout",
          "text": [
            "3\n"
          ]
        }
      ]
    },
    {
      "cell_type": "code",
      "source": [
        "# 219\n",
        "def print_arithmetic_operation(a, b):\n",
        "  print(f'{a} + {b} = {a + b}')\n",
        "  print(f'{a} - {b} = {a - b}')\n",
        "  print(f'{a} * {b} = {a * b}')\n",
        "  print(f'{a} / {b} = {a / b}')\n",
        "print_arithmetic_operation(3, 4)"
      ],
      "metadata": {
        "colab": {
          "base_uri": "https://localhost:8080/"
        },
        "id": "Q5KFdrTf48KT",
        "outputId": "68d88dfd-046a-4d69-c0ed-ca7131392c70"
      },
      "execution_count": 27,
      "outputs": [
        {
          "output_type": "stream",
          "name": "stdout",
          "text": [
            "3 + 4 = 7\n",
            "3 - 4 = -1\n",
            "3 * 4 = 12\n",
            "3 / 4 = 0.75\n"
          ]
        }
      ]
    },
    {
      "cell_type": "code",
      "source": [
        "# 220\n",
        "def print_max(a, b, c):\n",
        "  if a > b and a > c:\n",
        "    print(a)\n",
        "  elif c > a and c > b:\n",
        "    print(c)\n",
        "  else:\n",
        "    print(b)\n",
        "print_max(1, 2, 3)"
      ],
      "metadata": {
        "id": "oLaIbacw6a03"
      },
      "execution_count": null,
      "outputs": []
    },
    {
      "cell_type": "code",
      "source": [
        "# 221"
      ],
      "metadata": {
        "id": "qlcP0Ear9QM8"
      },
      "execution_count": null,
      "outputs": []
    },
    {
      "cell_type": "code",
      "source": [
        "# 222\n",
        "def print_score(list):\n",
        "  print(f'{sum(list) / len(list)}')\n",
        "print_score ([1, 2, 3])"
      ],
      "metadata": {
        "id": "CrV9WmGc92KE"
      },
      "execution_count": null,
      "outputs": []
    },
    {
      "cell_type": "code",
      "source": [
        "# 223\n",
        "def print_even(list):\n",
        "  for a in list:\n",
        "    if a % 2 == 0:\n",
        "      print(a)\n",
        "print_even ([1, 3, 2, 10, 12, 11, 15])"
      ],
      "metadata": {
        "colab": {
          "base_uri": "https://localhost:8080/"
        },
        "id": "lsLgiOqK94IA",
        "outputId": "0c828ce8-c4ba-4003-b9f6-59ba94a1e70b"
      },
      "execution_count": 37,
      "outputs": [
        {
          "output_type": "stream",
          "name": "stdout",
          "text": [
            "2\n",
            "10\n",
            "12\n"
          ]
        }
      ]
    },
    {
      "cell_type": "code",
      "source": [
        "# 224\n",
        "def print_keys(dict):\n",
        "  for key in dict.keys():\n",
        "    print(key)\n",
        "print_keys ({\"이름\":\"김말똥\", \"나이\":30, \"성별\":0})"
      ],
      "metadata": {
        "colab": {
          "base_uri": "https://localhost:8080/"
        },
        "id": "U6wvDm3Q95KJ",
        "outputId": "3f9e0393-d736-4d4c-e054-e95e1a0d539d"
      },
      "execution_count": 48,
      "outputs": [
        {
          "output_type": "stream",
          "name": "stdout",
          "text": [
            "이름\n",
            "나이\n",
            "성별\n"
          ]
        }
      ]
    },
    {
      "cell_type": "code",
      "source": [
        "# 225"
      ],
      "metadata": {
        "id": "UIB3BgFO96Vx"
      },
      "execution_count": null,
      "outputs": []
    },
    {
      "cell_type": "code",
      "source": [
        "# 226"
      ],
      "metadata": {
        "id": "cxr_N5Rc97dE"
      },
      "execution_count": null,
      "outputs": []
    },
    {
      "cell_type": "code",
      "source": [
        "# 227"
      ],
      "metadata": {
        "id": "Hqln7kuC9-QD"
      },
      "execution_count": null,
      "outputs": []
    },
    {
      "cell_type": "code",
      "source": [
        "# 228"
      ],
      "metadata": {
        "id": "KbEdH99Y9_YX"
      },
      "execution_count": null,
      "outputs": []
    },
    {
      "cell_type": "code",
      "source": [
        "# 229\n",
        "def my_print (a, b) :\n",
        " print(\"왼쪽:\", a)\n",
        " print(\"오른쪽:\", b)\n",
        "my_print(a=100, b=200)\n",
        "\n",
        "# 왼쪽 100\n",
        "# 오른쪽 200"
      ],
      "metadata": {
        "id": "_b0n4dUS-B29"
      },
      "execution_count": null,
      "outputs": []
    },
    {
      "cell_type": "code",
      "source": [
        "# 230\n",
        "def my_print (a, b) :\n",
        " print(\"왼쪽:\", a)\n",
        " print(\"오른쪽:\", b)\n",
        "my_print(b=100, a=200)\n",
        "\n",
        "# 왼쪽 200\n",
        "# 오른쪽 100"
      ],
      "metadata": {
        "id": "4fAPuckW-DRL"
      },
      "execution_count": null,
      "outputs": []
    }
  ]
}