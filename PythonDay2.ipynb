{
  "nbformat": 4,
  "nbformat_minor": 0,
  "metadata": {
    "colab": {
      "name": "PythonDay2",
      "provenance": [],
      "authorship_tag": "ABX9TyMaiWznhpX60U3iBU7lOuNP",
      "include_colab_link": true
    },
    "kernelspec": {
      "name": "python3",
      "display_name": "Python 3"
    },
    "language_info": {
      "name": "python"
    }
  },
  "cells": [
    {
      "cell_type": "markdown",
      "metadata": {
        "id": "view-in-github",
        "colab_type": "text"
      },
      "source": [
        "<a href=\"https://colab.research.google.com/github/0hJunSeok/Python/blob/main/PythonDay2.ipynb\" target=\"_parent\"><img src=\"https://colab.research.google.com/assets/colab-badge.svg\" alt=\"Open In Colab\"/></a>"
      ]
    },
    {
      "cell_type": "code",
      "execution_count": null,
      "metadata": {
        "id": "VFhbiN7Mq9sw"
      },
      "outputs": [],
      "source": [
        "# 모음 - 여러 값을 하나의 이름으로 묶어서 관리하는 자료형\n",
        "\n",
        "\n",
        "# 리스트 (***) [] 추가/수정/삭제 가능 mutable      인덱싱/슬라이싱 가능\n",
        "# 튜플         () 추가/수정/삭제 불가능 immutable  인덱싱/슬라이싱 가능\n",
        "# 딕셔너리     {} 추가/수정/삭제 가능 mutable      인덱싱/슬라이싱 불가능, 순서가 없다\n",
        "# 셋           {} 추가/수정/삭제 가능 mutable      인덱싱/슬라이싱 불가능, 순서가 없다"
      ]
    },
    {
      "cell_type": "code",
      "source": [
        "# 리스트 - 가장 많이 사용하는 자료형이다. 자료형이 다른 데이터들도 함께 저장할수 있다.\n",
        "\n",
        "li1 = [1,2,3,4]\n",
        "print(li1)\n",
        "li2 = [2, 3.14, 'hello']\n",
        "print(li2)"
      ],
      "metadata": {
        "id": "KEBj9M-EsM5W"
      },
      "execution_count": null,
      "outputs": []
    },
    {
      "cell_type": "code",
      "source": [
        "a = 'hello'\n",
        "a[2]"
      ],
      "metadata": {
        "id": "FTC-_Q18tVJt"
      },
      "execution_count": null,
      "outputs": []
    },
    {
      "cell_type": "code",
      "source": [
        "li = [2, 3.14, 'hello']\n",
        "li[-1] # 리스트에서 인덱싱 가능"
      ],
      "metadata": {
        "id": "fLQktRPrt_s7"
      },
      "execution_count": null,
      "outputs": []
    },
    {
      "cell_type": "code",
      "source": [
        "# (start, stop, step)\n",
        "\n",
        "li = [2, 3.14, 'hello']\n",
        "li[0:2] # 리스트에서 슬라이싱 가능"
      ],
      "metadata": {
        "id": "eYf-eiKBuD9O"
      },
      "execution_count": null,
      "outputs": []
    },
    {
      "cell_type": "code",
      "source": [
        "scores = [50,40,30]\n",
        "\n",
        "scores.append(80) # append 끝에서부터 하나씩 추가\n",
        "scores\n",
        "\n",
        "scores.insert(0, 100) # insert 위치를 정해서 추가 가능\n"
      ],
      "metadata": {
        "id": "j6E5Gg7suvsz"
      },
      "execution_count": 24,
      "outputs": []
    },
    {
      "cell_type": "code",
      "source": [
        "scores"
      ],
      "metadata": {
        "id": "6bMPEw0TvfWH"
      },
      "execution_count": null,
      "outputs": []
    },
    {
      "cell_type": "code",
      "source": [
        "scores.pop() # pop 끝에서부터 하나씩 삭제"
      ],
      "metadata": {
        "id": "BiyIwBITvuGw"
      },
      "execution_count": null,
      "outputs": []
    },
    {
      "cell_type": "code",
      "source": [
        "scores"
      ],
      "metadata": {
        "id": "BKjU4OTXv44_"
      },
      "execution_count": null,
      "outputs": []
    },
    {
      "cell_type": "code",
      "source": [
        "scores.pop(0) # 위치를 정해서 삭제 가능"
      ],
      "metadata": {
        "id": "alxaDX_awJRV"
      },
      "execution_count": null,
      "outputs": []
    },
    {
      "cell_type": "code",
      "source": [
        "scores"
      ],
      "metadata": {
        "id": "K4v-bHiQwR81"
      },
      "execution_count": null,
      "outputs": []
    },
    {
      "cell_type": "code",
      "source": [
        "# 튜플 - 수정할수없는 리스트\n",
        "\n",
        "tu1 = (1,2,3)\n",
        "print(tu1)\n",
        "print(type(tu1)) # type 자료형을 알려준다\n",
        "\n",
        "# 괄호 생략 가능\n",
        "tu2 = 2,3,4 \n",
        "print(tu2)\n",
        "print(type(tu2))\n",
        "\n",
        "# 자료형이 다른 데이터 사용가능\n",
        "tu3 = 2,3.14,'문자'\n",
        "print(tu3)\n",
        "print(type(tu3))"
      ],
      "metadata": {
        "id": "mDLsirAswudg"
      },
      "execution_count": null,
      "outputs": []
    },
    {
      "cell_type": "code",
      "source": [
        "tu = (10,20,30,40,50)\n",
        "tu[2]\n",
        "# tu.append(60) append 불가능"
      ],
      "metadata": {
        "id": "scHndznB4eD7"
      },
      "execution_count": null,
      "outputs": []
    },
    {
      "cell_type": "code",
      "source": [
        "tu[0:3]"
      ],
      "metadata": {
        "id": "EkbBI0kI5Ei0"
      },
      "execution_count": null,
      "outputs": []
    },
    {
      "cell_type": "code",
      "source": [
        "# 셋 딕셔너리 순서가 없어서 인덱싱,슬라이싱 불가능"
      ],
      "metadata": {
        "id": "LXh9BWKq6-xP"
      },
      "execution_count": null,
      "outputs": []
    },
    {
      "cell_type": "code",
      "source": [
        "set = {1,2,3}\n",
        "print(type(set))\n",
        "print(set)"
      ],
      "metadata": {
        "id": "UhLytLcc5O71"
      },
      "execution_count": null,
      "outputs": []
    },
    {
      "cell_type": "code",
      "source": [
        "set = {1,2,2,3,3,3} # 중복을 제거하는 용도\n",
        "print(type(set))\n",
        "print(set)\n"
      ],
      "metadata": {
        "id": "kJqPdXRC5gq4"
      },
      "execution_count": null,
      "outputs": []
    },
    {
      "cell_type": "code",
      "source": [
        "set.add(4) # 추가가능\n",
        "set"
      ],
      "metadata": {
        "id": "YNtqSOYm53q6"
      },
      "execution_count": null,
      "outputs": []
    },
    {
      "cell_type": "code",
      "source": [
        "set.remove(3) # 제거가능\n",
        "set"
      ],
      "metadata": {
        "id": "3ATkgbXZ58xH"
      },
      "execution_count": null,
      "outputs": []
    },
    {
      "cell_type": "code",
      "source": [
        "set[0] # 인덱싱 불가능"
      ],
      "metadata": {
        "id": "qBf1cwU95qX1"
      },
      "execution_count": null,
      "outputs": []
    },
    {
      "cell_type": "code",
      "source": [
        "# 딕셔너리 : 키와 밸류 한쌍으로 구성된 자료형이다.\n",
        "\n",
        "dict = {'a':'apple', 'b':'banana'}\n",
        "\n",
        "print(dict)\n",
        "print(type(dict))"
      ],
      "metadata": {
        "id": "3ILDGNIT6I1f"
      },
      "execution_count": null,
      "outputs": []
    },
    {
      "cell_type": "code",
      "source": [
        "dict['w']='wateremelon' # 추가가능\n",
        "print(dict)\n",
        "print(type(dict))"
      ],
      "metadata": {
        "id": "gcPwDTcT7IRT"
      },
      "execution_count": null,
      "outputs": []
    },
    {
      "cell_type": "code",
      "source": [
        "dict.pop('a') # 제거가능\n",
        "print(dict)\n",
        "print(type(dict))"
      ],
      "metadata": {
        "id": "Hyq4pwIQ7Zvx"
      },
      "execution_count": null,
      "outputs": []
    },
    {
      "cell_type": "code",
      "source": [
        "dict[0] # 인덱싱 불가능"
      ],
      "metadata": {
        "id": "Ciy3Y8pN7jtZ"
      },
      "execution_count": null,
      "outputs": []
    },
    {
      "cell_type": "code",
      "source": [
        "me=[1,2,3]  # 리스트\n",
        "id(me)"
      ],
      "metadata": {
        "id": "zg1XTGyX8HkK"
      },
      "execution_count": null,
      "outputs": []
    },
    {
      "cell_type": "code",
      "source": [
        "me.append(4)\n",
        "print(id(me))\n",
        "print(me)"
      ],
      "metadata": {
        "id": "_ZxYYnDf846I"
      },
      "execution_count": null,
      "outputs": []
    },
    {
      "cell_type": "code",
      "source": [
        "me = 10  # 정수\n",
        "print(id(me))"
      ],
      "metadata": {
        "id": "zwJ7bHo79RWF"
      },
      "execution_count": null,
      "outputs": []
    },
    {
      "cell_type": "code",
      "source": [
        "me += 1\n",
        "print(id(me))"
      ],
      "metadata": {
        "id": "COfOEiWC9jSo"
      },
      "execution_count": null,
      "outputs": []
    },
    {
      "cell_type": "code",
      "source": [
        "me = [1,2,3]\n",
        "\n",
        "you = me\n",
        "\n",
        "print(id(me))\n",
        "print(id(you))"
      ],
      "metadata": {
        "id": "YwSQXzr_90ka"
      },
      "execution_count": null,
      "outputs": []
    },
    {
      "cell_type": "code",
      "source": [
        "you.append(4)\n",
        "\n",
        "print(id(me))\n",
        "print(id(you))\n",
        "print(me)\n",
        "print(you)"
      ],
      "metadata": {
        "id": "FzY8OLsp-HyZ"
      },
      "execution_count": null,
      "outputs": []
    },
    {
      "cell_type": "code",
      "source": [
        "no1 = '서울2가1234'\n",
        "no2 = '10가1234'\n",
        "no3 = '288가1234'\n",
        "\n",
        "print(no1,'의 차량번호 4자리는 ',no1[-4:],'입니다')\n",
        "print(no2,'의 차량번호 4자리는 ',no2[-4:],'입니다')\n",
        "print(no3,'의 차량번호 4자리는 ',no3[-4:],'입니다')"
      ],
      "metadata": {
        "id": "k2x4TYT1-1By"
      },
      "execution_count": null,
      "outputs": []
    },
    {
      "cell_type": "code",
      "source": [
        "s = 'maple'\n",
        "print(s,'의 가운데 글자는',s[2],'입니다.')"
      ],
      "metadata": {
        "id": "d3kxxpVZBP0-"
      },
      "execution_count": null,
      "outputs": []
    },
    {
      "cell_type": "code",
      "source": [
        "list = [10,20,30,40,50,60,70,80,90,100]\n",
        "print('3번째 요소부터 7번째 요소 = ',list[2:7])\n",
        "print('3번째 요소부터 7번째 요소중 2번째 요소 = ',list[2:7][1]) # 슬라이싱 걸고 인덱싱 걸수있다."
      ],
      "metadata": {
        "id": "_JlnfoDPByLB"
      },
      "execution_count": null,
      "outputs": []
    },
    {
      "cell_type": "code",
      "source": [
        "dict = {'금요일':'탕수육','토요일':'유산슬','일요일':'팔보채'}\n",
        "print('금요일 :',dict['금요일'])\n",
        "print('토요일 :',dict['토요일'])\n",
        "print('일요일 :',dict['일요일'])  # 키를 입력하면 밸류가 출력"
      ],
      "metadata": {
        "id": "q2uJ288TDB1w"
      },
      "execution_count": null,
      "outputs": []
    },
    {
      "cell_type": "code",
      "source": [
        "print('Hello \\'World\\'') # \\' = 따음표를 사용하고 싶을때\n",
        "print('*\\n**\\n***\\n') # \\n = 줄바꾸기\n",
        "print('이름 \\t 연락처') # \\t = 일정 간격 띄우기\n",
        "print('a \\t 010-1234-5678')\n",
        "print('aa \\t 010-2345-6789')"
      ],
      "metadata": {
        "id": "waRvaYH1GG_7"
      },
      "execution_count": null,
      "outputs": []
    },
    {
      "cell_type": "code",
      "source": [
        "print('재미있는','파이썬', sep=' ')\n",
        "print('Python', 'Java', 'C', sep='.')  # sep ' ' = 공백, '.'= 점으로 출력"
      ],
      "metadata": {
        "id": "_s964fsEIeeW"
      },
      "execution_count": null,
      "outputs": []
    },
    {
      "cell_type": "code",
      "source": [
        "print()\n",
        "print('영화 타이타닉')\n",
        "print('평점', end = ':')  # end ' ' 아래말고 옆에다 출력\n",
        "print('5점')"
      ],
      "metadata": {
        "id": "qBC7hcgbJbmQ"
      },
      "execution_count": null,
      "outputs": []
    },
    {
      "cell_type": "code",
      "source": [
        "# 인쇄 4가지 방법\n",
        "\n",
        "# 1. 기본출력\n",
        "# 2. %연산자출력\n",
        "# 3. format()매서드\n",
        "# 4. f string (***)\n",
        "\n",
        "# %연산자출력\n",
        "\n",
        "print('%d' % 10)\n",
        "print('%d 원 입니다.' % 100) # %d 정수\n",
        "print('%s 원 입니다.' % 100)\n",
        "\n",
        "print('원주율은 %f입니다.' % 3.14) # %f 소수\n",
        "print('원주율은 %s입니다.' % 3.14)"
      ],
      "metadata": {
        "id": "JK-VxFhEKdWy"
      },
      "execution_count": null,
      "outputs": []
    },
    {
      "cell_type": "code",
      "source": [
        "print('%5d' % 1) \n",
        "print('%5d' % 12)\n",
        "print('%-5d' % 1)\n",
        "print('%-5d' % 12) # 자리표시 57p"
      ],
      "metadata": {
        "id": "hAnn87bPMPmc"
      },
      "execution_count": null,
      "outputs": []
    },
    {
      "cell_type": "code",
      "source": [
        "# format()매서드\n",
        "\n",
        "print('My name is {}'.format('Junseok'))"
      ],
      "metadata": {
        "id": "1TA79R1GM1MY"
      },
      "execution_count": null,
      "outputs": []
    },
    {
      "cell_type": "code",
      "source": [
        "name = 'Junseok'\n",
        "age = '24'\n",
        "print('My name is',name, 'i\\'m',age, 'years old') # 기본출력\n",
        "\n",
        "print('My name is %s i\\'m %s years old' % ('Junseok', 24)) # %연산자출력\n",
        "\n",
        "print('My name is {} I\\'m {} years old'.format('Junseok', 24)) # format()매서드(비추천)\n",
        "\n",
        "print(f'My name is {name} i\\'m {age} years old') # f string(추천)"
      ],
      "metadata": {
        "colab": {
          "base_uri": "https://localhost:8080/"
        },
        "id": "6OTXYYNuNRBZ",
        "outputId": "6636101a-bc64-4f6c-a371-1dc319a7f43c"
      },
      "execution_count": 111,
      "outputs": [
        {
          "output_type": "stream",
          "name": "stdout",
          "text": [
            "My name is Junseok i'm 24 years old\n",
            "My name is Junseok i'm 24 years old\n",
            "My name is Junseok I'm 24 years old\n",
            "My name is Junseok i'm 24 years old\n"
          ]
        }
      ]
    },
    {
      "cell_type": "code",
      "source": [
        "age = 24\n",
        "\n",
        "print(f'내년엔 {age+1} 살이 됩니다.')"
      ],
      "metadata": {
        "colab": {
          "base_uri": "https://localhost:8080/"
        },
        "id": "sCXtzjtpQAot",
        "outputId": "7bed8420-353d-4062-d4f5-376850c4b7cb"
      },
      "execution_count": 112,
      "outputs": [
        {
          "output_type": "stream",
          "name": "stdout",
          "text": [
            "내년엔 25 살이 됩니다.\n"
          ]
        }
      ]
    },
    {
      "cell_type": "code",
      "source": [
        "#숙제 60P\n",
        "#월요일62P~"
      ],
      "metadata": {
        "id": "tKmDHmQnP5ih"
      },
      "execution_count": null,
      "outputs": []
    }
  ]
}